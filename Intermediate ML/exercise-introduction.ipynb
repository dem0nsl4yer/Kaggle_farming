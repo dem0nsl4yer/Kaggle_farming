{
 "cells": [
  {
   "cell_type": "markdown",
   "id": "6f8e1a73",
   "metadata": {
    "papermill": {
     "duration": 0.006964,
     "end_time": "2023-05-12T04:47:05.259621",
     "exception": false,
     "start_time": "2023-05-12T04:47:05.252657",
     "status": "completed"
    },
    "tags": []
   },
   "source": [
    "**This notebook is an exercise in the [Intermediate Machine Learning](https://www.kaggle.com/learn/intermediate-machine-learning) course.  You can reference the tutorial at [this link](https://www.kaggle.com/alexisbcook/introduction).**\n",
    "\n",
    "---\n"
   ]
  },
  {
   "cell_type": "markdown",
   "id": "ce61cf84",
   "metadata": {
    "papermill": {
     "duration": 0.006119,
     "end_time": "2023-05-12T04:47:05.272342",
     "exception": false,
     "start_time": "2023-05-12T04:47:05.266223",
     "status": "completed"
    },
    "tags": []
   },
   "source": [
    "As a warm-up, you'll review some machine learning fundamentals and submit your initial results to a Kaggle competition.\n",
    "\n",
    "# Setup\n",
    "\n",
    "The questions below will give you feedback on your work. Run the following cell to set up the feedback system."
   ]
  },
  {
   "cell_type": "code",
   "execution_count": 1,
   "id": "f3af68f9",
   "metadata": {
    "execution": {
     "iopub.execute_input": "2023-05-12T04:47:05.286903Z",
     "iopub.status.busy": "2023-05-12T04:47:05.286467Z",
     "iopub.status.idle": "2023-05-12T04:47:07.158553Z",
     "shell.execute_reply": "2023-05-12T04:47:07.157179Z"
    },
    "papermill": {
     "duration": 1.882285,
     "end_time": "2023-05-12T04:47:07.161154",
     "exception": false,
     "start_time": "2023-05-12T04:47:05.278869",
     "status": "completed"
    },
    "tags": []
   },
   "outputs": [
    {
     "name": "stderr",
     "output_type": "stream",
     "text": [
      "/opt/conda/lib/python3.10/site-packages/scipy/__init__.py:146: UserWarning: A NumPy version >=1.16.5 and <1.23.0 is required for this version of SciPy (detected version 1.23.5\n",
      "  warnings.warn(f\"A NumPy version >={np_minversion} and <{np_maxversion}\"\n"
     ]
    },
    {
     "name": "stdout",
     "output_type": "stream",
     "text": [
      "Setup Complete\n"
     ]
    }
   ],
   "source": [
    "# Set up code checking\n",
    "import os\n",
    "if not os.path.exists(\"../input/train.csv\"):\n",
    "    os.symlink(\"../input/home-data-for-ml-course/train.csv\", \"../input/train.csv\")  \n",
    "    os.symlink(\"../input/home-data-for-ml-course/test.csv\", \"../input/test.csv\")  \n",
    "from learntools.core import binder\n",
    "binder.bind(globals())\n",
    "from learntools.ml_intermediate.ex1 import *\n",
    "print(\"Setup Complete\")"
   ]
  },
  {
   "cell_type": "markdown",
   "id": "97281065",
   "metadata": {
    "papermill": {
     "duration": 0.006427,
     "end_time": "2023-05-12T04:47:07.174148",
     "exception": false,
     "start_time": "2023-05-12T04:47:07.167721",
     "status": "completed"
    },
    "tags": []
   },
   "source": [
    "You will work with data from the [Housing Prices Competition for Kaggle Learn Users](https://www.kaggle.com/c/home-data-for-ml-course) to predict home prices in Iowa using 79 explanatory variables describing (almost) every aspect of the homes.  \n",
    "\n",
    "![Ames Housing dataset image](https://storage.googleapis.com/kaggle-media/learn/images/lTJVG4e.png)\n",
    "\n",
    "Run the next code cell without changes to load the training and validation features in `X_train` and `X_valid`, along with the prediction targets in `y_train` and `y_valid`.  The test features are loaded in `X_test`.  (_If you need to review **features** and **prediction targets**, please check out [this short tutorial](https://www.kaggle.com/dansbecker/your-first-machine-learning-model).  To read about model **validation**, look [here](https://www.kaggle.com/dansbecker/model-validation).  Alternatively, if you'd prefer to look through a full course to review all of these topics, start [here](https://www.kaggle.com/learn/machine-learning).)_"
   ]
  },
  {
   "cell_type": "code",
   "execution_count": 2,
   "id": "f5eec059",
   "metadata": {
    "execution": {
     "iopub.execute_input": "2023-05-12T04:47:07.189635Z",
     "iopub.status.busy": "2023-05-12T04:47:07.189252Z",
     "iopub.status.idle": "2023-05-12T04:47:07.313164Z",
     "shell.execute_reply": "2023-05-12T04:47:07.311794Z"
    },
    "papermill": {
     "duration": 0.135238,
     "end_time": "2023-05-12T04:47:07.316043",
     "exception": false,
     "start_time": "2023-05-12T04:47:07.180805",
     "status": "completed"
    },
    "tags": []
   },
   "outputs": [],
   "source": [
    "import pandas as pd\n",
    "from sklearn.model_selection import train_test_split\n",
    "\n",
    "# Read the data\n",
    "X_full = pd.read_csv('../input/train.csv', index_col='Id')\n",
    "X_test_full = pd.read_csv('../input/test.csv', index_col='Id')\n",
    "\n",
    "# Obtain target and predictors\n",
    "y = X_full.SalePrice\n",
    "features = ['LotArea', 'YearBuilt', '1stFlrSF', '2ndFlrSF', 'FullBath', 'BedroomAbvGr', 'TotRmsAbvGrd']\n",
    "X = X_full[features].copy()\n",
    "X_test = X_test_full[features].copy()\n",
    "\n",
    "# Break off validation set from training data\n",
    "X_train, X_valid, y_train, y_valid = train_test_split(X, y, train_size=0.8, test_size=0.2,\n",
    "                                                      random_state=0)"
   ]
  },
  {
   "cell_type": "markdown",
   "id": "467a24ab",
   "metadata": {
    "papermill": {
     "duration": 0.006542,
     "end_time": "2023-05-12T04:47:07.329768",
     "exception": false,
     "start_time": "2023-05-12T04:47:07.323226",
     "status": "completed"
    },
    "tags": []
   },
   "source": [
    "Use the next cell to print the first several rows of the data. It's a nice way to get an overview of the data you will use in your price prediction model."
   ]
  },
  {
   "cell_type": "code",
   "execution_count": 3,
   "id": "de01048f",
   "metadata": {
    "execution": {
     "iopub.execute_input": "2023-05-12T04:47:07.346179Z",
     "iopub.status.busy": "2023-05-12T04:47:07.345493Z",
     "iopub.status.idle": "2023-05-12T04:47:07.370129Z",
     "shell.execute_reply": "2023-05-12T04:47:07.368974Z"
    },
    "papermill": {
     "duration": 0.035575,
     "end_time": "2023-05-12T04:47:07.372582",
     "exception": false,
     "start_time": "2023-05-12T04:47:07.337007",
     "status": "completed"
    },
    "tags": []
   },
   "outputs": [
    {
     "data": {
      "text/html": [
       "<div>\n",
       "<style scoped>\n",
       "    .dataframe tbody tr th:only-of-type {\n",
       "        vertical-align: middle;\n",
       "    }\n",
       "\n",
       "    .dataframe tbody tr th {\n",
       "        vertical-align: top;\n",
       "    }\n",
       "\n",
       "    .dataframe thead th {\n",
       "        text-align: right;\n",
       "    }\n",
       "</style>\n",
       "<table border=\"1\" class=\"dataframe\">\n",
       "  <thead>\n",
       "    <tr style=\"text-align: right;\">\n",
       "      <th></th>\n",
       "      <th>LotArea</th>\n",
       "      <th>YearBuilt</th>\n",
       "      <th>1stFlrSF</th>\n",
       "      <th>2ndFlrSF</th>\n",
       "      <th>FullBath</th>\n",
       "      <th>BedroomAbvGr</th>\n",
       "      <th>TotRmsAbvGrd</th>\n",
       "    </tr>\n",
       "    <tr>\n",
       "      <th>Id</th>\n",
       "      <th></th>\n",
       "      <th></th>\n",
       "      <th></th>\n",
       "      <th></th>\n",
       "      <th></th>\n",
       "      <th></th>\n",
       "      <th></th>\n",
       "    </tr>\n",
       "  </thead>\n",
       "  <tbody>\n",
       "    <tr>\n",
       "      <th>619</th>\n",
       "      <td>11694</td>\n",
       "      <td>2007</td>\n",
       "      <td>1828</td>\n",
       "      <td>0</td>\n",
       "      <td>2</td>\n",
       "      <td>3</td>\n",
       "      <td>9</td>\n",
       "    </tr>\n",
       "    <tr>\n",
       "      <th>871</th>\n",
       "      <td>6600</td>\n",
       "      <td>1962</td>\n",
       "      <td>894</td>\n",
       "      <td>0</td>\n",
       "      <td>1</td>\n",
       "      <td>2</td>\n",
       "      <td>5</td>\n",
       "    </tr>\n",
       "    <tr>\n",
       "      <th>93</th>\n",
       "      <td>13360</td>\n",
       "      <td>1921</td>\n",
       "      <td>964</td>\n",
       "      <td>0</td>\n",
       "      <td>1</td>\n",
       "      <td>2</td>\n",
       "      <td>5</td>\n",
       "    </tr>\n",
       "    <tr>\n",
       "      <th>818</th>\n",
       "      <td>13265</td>\n",
       "      <td>2002</td>\n",
       "      <td>1689</td>\n",
       "      <td>0</td>\n",
       "      <td>2</td>\n",
       "      <td>3</td>\n",
       "      <td>7</td>\n",
       "    </tr>\n",
       "    <tr>\n",
       "      <th>303</th>\n",
       "      <td>13704</td>\n",
       "      <td>2001</td>\n",
       "      <td>1541</td>\n",
       "      <td>0</td>\n",
       "      <td>2</td>\n",
       "      <td>3</td>\n",
       "      <td>6</td>\n",
       "    </tr>\n",
       "  </tbody>\n",
       "</table>\n",
       "</div>"
      ],
      "text/plain": [
       "     LotArea  YearBuilt  1stFlrSF  2ndFlrSF  FullBath  BedroomAbvGr  \\\n",
       "Id                                                                    \n",
       "619    11694       2007      1828         0         2             3   \n",
       "871     6600       1962       894         0         1             2   \n",
       "93     13360       1921       964         0         1             2   \n",
       "818    13265       2002      1689         0         2             3   \n",
       "303    13704       2001      1541         0         2             3   \n",
       "\n",
       "     TotRmsAbvGrd  \n",
       "Id                 \n",
       "619             9  \n",
       "871             5  \n",
       "93              5  \n",
       "818             7  \n",
       "303             6  "
      ]
     },
     "execution_count": 3,
     "metadata": {},
     "output_type": "execute_result"
    }
   ],
   "source": [
    "X_train.head()"
   ]
  },
  {
   "cell_type": "markdown",
   "id": "13d3d659",
   "metadata": {
    "papermill": {
     "duration": 0.006767,
     "end_time": "2023-05-12T04:47:07.386535",
     "exception": false,
     "start_time": "2023-05-12T04:47:07.379768",
     "status": "completed"
    },
    "tags": []
   },
   "source": [
    "The next code cell defines five different random forest models.  Run this code cell without changes.  (_To review **random forests**, look [here](https://www.kaggle.com/dansbecker/random-forests)._)"
   ]
  },
  {
   "cell_type": "code",
   "execution_count": 4,
   "id": "76b4c2f5",
   "metadata": {
    "execution": {
     "iopub.execute_input": "2023-05-12T04:47:07.402293Z",
     "iopub.status.busy": "2023-05-12T04:47:07.401894Z",
     "iopub.status.idle": "2023-05-12T04:47:07.409721Z",
     "shell.execute_reply": "2023-05-12T04:47:07.408408Z"
    },
    "papermill": {
     "duration": 0.018833,
     "end_time": "2023-05-12T04:47:07.412282",
     "exception": false,
     "start_time": "2023-05-12T04:47:07.393449",
     "status": "completed"
    },
    "tags": []
   },
   "outputs": [],
   "source": [
    "from sklearn.ensemble import RandomForestRegressor\n",
    "\n",
    "# Define the models\n",
    "model_1 = RandomForestRegressor(n_estimators=50, random_state=0)\n",
    "model_2 = RandomForestRegressor(n_estimators=100, random_state=0)\n",
    "model_3 = RandomForestRegressor(n_estimators=100, criterion='absolute_error', random_state=0)\n",
    "model_4 = RandomForestRegressor(n_estimators=200, min_samples_split=20, random_state=0)\n",
    "model_5 = RandomForestRegressor(n_estimators=100, max_depth=7, random_state=0)\n",
    "\n",
    "models = [model_1, model_2, model_3, model_4, model_5]"
   ]
  },
  {
   "cell_type": "markdown",
   "id": "a5cb7835",
   "metadata": {
    "papermill": {
     "duration": 0.006775,
     "end_time": "2023-05-12T04:47:07.425989",
     "exception": false,
     "start_time": "2023-05-12T04:47:07.419214",
     "status": "completed"
    },
    "tags": []
   },
   "source": [
    "To select the best model out of the five, we define a function `score_model()` below.  This function returns the mean absolute error (MAE) from the validation set.  Recall that the best model will obtain the lowest MAE.  (_To review **mean absolute error**, look [here](https://www.kaggle.com/dansbecker/model-validation).)_\n",
    "\n",
    "Run the code cell without changes."
   ]
  },
  {
   "cell_type": "code",
   "execution_count": 5,
   "id": "41fba8ad",
   "metadata": {
    "execution": {
     "iopub.execute_input": "2023-05-12T04:47:07.441852Z",
     "iopub.status.busy": "2023-05-12T04:47:07.441383Z",
     "iopub.status.idle": "2023-05-12T04:47:12.895127Z",
     "shell.execute_reply": "2023-05-12T04:47:12.893660Z"
    },
    "papermill": {
     "duration": 5.465138,
     "end_time": "2023-05-12T04:47:12.897982",
     "exception": false,
     "start_time": "2023-05-12T04:47:07.432844",
     "status": "completed"
    },
    "tags": []
   },
   "outputs": [
    {
     "name": "stdout",
     "output_type": "stream",
     "text": [
      "Model 1 MAE: 24015\n",
      "Model 2 MAE: 23740\n",
      "Model 3 MAE: 23528\n",
      "Model 4 MAE: 23996\n",
      "Model 5 MAE: 23706\n"
     ]
    }
   ],
   "source": [
    "from sklearn.metrics import mean_absolute_error\n",
    "\n",
    "# Function for comparing different models\n",
    "def score_model(model, X_t=X_train, X_v=X_valid, y_t=y_train, y_v=y_valid):\n",
    "    model.fit(X_t, y_t)\n",
    "    preds = model.predict(X_v)\n",
    "    return mean_absolute_error(y_v, preds)\n",
    "\n",
    "for i in range(0, len(models)):\n",
    "    mae = score_model(models[i])\n",
    "    print(\"Model %d MAE: %d\" % (i+1, mae))"
   ]
  },
  {
   "cell_type": "markdown",
   "id": "809e13e9",
   "metadata": {
    "papermill": {
     "duration": 0.00711,
     "end_time": "2023-05-12T04:47:12.912744",
     "exception": false,
     "start_time": "2023-05-12T04:47:12.905634",
     "status": "completed"
    },
    "tags": []
   },
   "source": [
    "# Step 1: Evaluate several models\n",
    "\n",
    "Use the above results to fill in the line below.  Which model is the best model?  Your answer should be one of `model_1`, `model_2`, `model_3`, `model_4`, or `model_5`."
   ]
  },
  {
   "cell_type": "code",
   "execution_count": 6,
   "id": "4448922e",
   "metadata": {
    "execution": {
     "iopub.execute_input": "2023-05-12T04:47:12.929545Z",
     "iopub.status.busy": "2023-05-12T04:47:12.928806Z",
     "iopub.status.idle": "2023-05-12T04:47:12.937117Z",
     "shell.execute_reply": "2023-05-12T04:47:12.936362Z"
    },
    "papermill": {
     "duration": 0.018969,
     "end_time": "2023-05-12T04:47:12.939142",
     "exception": false,
     "start_time": "2023-05-12T04:47:12.920173",
     "status": "completed"
    },
    "tags": []
   },
   "outputs": [
    {
     "data": {
      "application/javascript": [
       "parent.postMessage({\"jupyterEvent\": \"custom.exercise_interaction\", \"data\": {\"outcomeType\": 1, \"valueTowardsCompletion\": 0.5, \"interactionType\": 1, \"questionType\": 2, \"questionId\": \"1_BestModel\", \"learnToolsVersion\": \"0.3.4\", \"failureMessage\": \"\", \"exceptionClass\": \"\", \"trace\": \"\"}}, \"*\")"
      ],
      "text/plain": [
       "<IPython.core.display.Javascript object>"
      ]
     },
     "metadata": {},
     "output_type": "display_data"
    },
    {
     "data": {
      "text/markdown": [
       "<span style=\"color:#33cc33\">Correct</span>"
      ],
      "text/plain": [
       "Correct"
      ]
     },
     "metadata": {},
     "output_type": "display_data"
    }
   ],
   "source": [
    "# Fill in the best model\n",
    "best_model = model_3\n",
    "\n",
    "# Check your answer\n",
    "step_1.check()"
   ]
  },
  {
   "cell_type": "code",
   "execution_count": 7,
   "id": "c4e889e0",
   "metadata": {
    "execution": {
     "iopub.execute_input": "2023-05-12T04:47:12.957040Z",
     "iopub.status.busy": "2023-05-12T04:47:12.956337Z",
     "iopub.status.idle": "2023-05-12T04:47:12.960802Z",
     "shell.execute_reply": "2023-05-12T04:47:12.959745Z"
    },
    "papermill": {
     "duration": 0.015942,
     "end_time": "2023-05-12T04:47:12.963146",
     "exception": false,
     "start_time": "2023-05-12T04:47:12.947204",
     "status": "completed"
    },
    "tags": []
   },
   "outputs": [],
   "source": [
    "# Lines below will give you a hint or solution code\n",
    "#step_1.hint()\n",
    "#step_1.solution()"
   ]
  },
  {
   "cell_type": "markdown",
   "id": "37e51359",
   "metadata": {
    "papermill": {
     "duration": 0.007394,
     "end_time": "2023-05-12T04:47:12.978277",
     "exception": false,
     "start_time": "2023-05-12T04:47:12.970883",
     "status": "completed"
    },
    "tags": []
   },
   "source": [
    "# Step 2: Generate test predictions\n",
    "\n",
    "Great. You know how to evaluate what makes an accurate model. Now it's time to go through the modeling process and make predictions. In the line below, create a Random Forest model with the variable name `my_model`."
   ]
  },
  {
   "cell_type": "code",
   "execution_count": 8,
   "id": "a930e71b",
   "metadata": {
    "execution": {
     "iopub.execute_input": "2023-05-12T04:47:12.996571Z",
     "iopub.status.busy": "2023-05-12T04:47:12.996056Z",
     "iopub.status.idle": "2023-05-12T04:47:13.006236Z",
     "shell.execute_reply": "2023-05-12T04:47:13.004976Z"
    },
    "papermill": {
     "duration": 0.022105,
     "end_time": "2023-05-12T04:47:13.008741",
     "exception": false,
     "start_time": "2023-05-12T04:47:12.986636",
     "status": "completed"
    },
    "tags": []
   },
   "outputs": [
    {
     "data": {
      "application/javascript": [
       "parent.postMessage({\"jupyterEvent\": \"custom.exercise_interaction\", \"data\": {\"outcomeType\": 1, \"valueTowardsCompletion\": 0.5, \"interactionType\": 1, \"questionType\": 2, \"questionId\": \"2_Predictions\", \"learnToolsVersion\": \"0.3.4\", \"failureMessage\": \"\", \"exceptionClass\": \"\", \"trace\": \"\"}}, \"*\")"
      ],
      "text/plain": [
       "<IPython.core.display.Javascript object>"
      ]
     },
     "metadata": {},
     "output_type": "display_data"
    },
    {
     "data": {
      "text/markdown": [
       "<span style=\"color:#33cc33\">Correct</span>"
      ],
      "text/plain": [
       "Correct"
      ]
     },
     "metadata": {},
     "output_type": "display_data"
    }
   ],
   "source": [
    "# Define a model\n",
    "my_model = model_3 # Your code here\n",
    "\n",
    "# Check your answer\n",
    "step_2.check()"
   ]
  },
  {
   "cell_type": "code",
   "execution_count": 9,
   "id": "b8045c19",
   "metadata": {
    "execution": {
     "iopub.execute_input": "2023-05-12T04:47:13.026612Z",
     "iopub.status.busy": "2023-05-12T04:47:13.026224Z",
     "iopub.status.idle": "2023-05-12T04:47:13.031138Z",
     "shell.execute_reply": "2023-05-12T04:47:13.029929Z"
    },
    "papermill": {
     "duration": 0.016607,
     "end_time": "2023-05-12T04:47:13.033476",
     "exception": false,
     "start_time": "2023-05-12T04:47:13.016869",
     "status": "completed"
    },
    "tags": []
   },
   "outputs": [],
   "source": [
    "# Lines below will give you a hint or solution code\n",
    "#step_2.hint()\n",
    "#step_2.solution()"
   ]
  },
  {
   "cell_type": "markdown",
   "id": "5c0fa377",
   "metadata": {
    "papermill": {
     "duration": 0.008856,
     "end_time": "2023-05-12T04:47:13.050441",
     "exception": false,
     "start_time": "2023-05-12T04:47:13.041585",
     "status": "completed"
    },
    "tags": []
   },
   "source": [
    "Run the next code cell without changes.  The code fits the model to the training and validation data, and then generates test predictions that are saved to a CSV file.  These test predictions can be submitted directly to the competition!"
   ]
  },
  {
   "cell_type": "code",
   "execution_count": 10,
   "id": "d731f925",
   "metadata": {
    "execution": {
     "iopub.execute_input": "2023-05-12T04:47:13.068718Z",
     "iopub.status.busy": "2023-05-12T04:47:13.068306Z",
     "iopub.status.idle": "2023-05-12T04:47:17.464776Z",
     "shell.execute_reply": "2023-05-12T04:47:17.463477Z"
    },
    "papermill": {
     "duration": 4.408638,
     "end_time": "2023-05-12T04:47:17.467469",
     "exception": false,
     "start_time": "2023-05-12T04:47:13.058831",
     "status": "completed"
    },
    "tags": []
   },
   "outputs": [],
   "source": [
    "# Fit the model to the training data\n",
    "my_model.fit(X, y)\n",
    "\n",
    "# Generate test predictions\n",
    "preds_test = my_model.predict(X_test)\n",
    "\n",
    "# Save predictions in format used for competition scoring\n",
    "output = pd.DataFrame({'Id': X_test.index,\n",
    "                       'SalePrice': preds_test})\n",
    "output.to_csv('submission.csv', index=False)"
   ]
  },
  {
   "cell_type": "markdown",
   "id": "39f95a1c",
   "metadata": {
    "papermill": {
     "duration": 0.007854,
     "end_time": "2023-05-12T04:47:17.483722",
     "exception": false,
     "start_time": "2023-05-12T04:47:17.475868",
     "status": "completed"
    },
    "tags": []
   },
   "source": [
    "# Submit your results\n",
    "\n",
    "Once you have successfully completed Step 2, you're ready to submit your results to the leaderboard!  First, you'll need to join the competition if you haven't already.  So open a new window by clicking on [this link](https://www.kaggle.com/c/home-data-for-ml-course).  Then click on the **Join Competition** button.  _(If you see a \"Submit Predictions\" button instead of a \"Join Competition\" button, you have already joined the competition, and don't need to do so again.)_\n",
    "\n",
    "Next, follow the instructions below:\n",
    "1. Begin by clicking on the **Save Version** button in the top right corner of the window.  This will generate a pop-up window.  \n",
    "2. Ensure that the **Save and Run All** option is selected, and then click on the **Save** button.\n",
    "3. This generates a window in the bottom left corner of the notebook.  After it has finished running, click on the number to the right of the **Save Version** button.  This pulls up a list of versions on the right of the screen.  Click on the ellipsis **(...)** to the right of the most recent version, and select **Open in Viewer**.  This brings you into view mode of the same page. You will need to scroll down to get back to these instructions.\n",
    "4. Click on the **Data** tab near the top of the screen.  Then, click on the file you would like to submit, and click on the **Submit** button to submit your results to the leaderboard.\n",
    "\n",
    "You have now successfully submitted to the competition!\n",
    "\n",
    "If you want to keep working to improve your performance, select the **Edit** button in the top right of the screen. Then you can change your code and repeat the process. There's a lot of room to improve, and you will climb up the leaderboard as you work.\n"
   ]
  },
  {
   "cell_type": "markdown",
   "id": "39f7119c",
   "metadata": {
    "papermill": {
     "duration": 0.00788,
     "end_time": "2023-05-12T04:47:17.499760",
     "exception": false,
     "start_time": "2023-05-12T04:47:17.491880",
     "status": "completed"
    },
    "tags": []
   },
   "source": [
    "# Keep going\n",
    "\n",
    "You've made your first model. But how can you quickly make it better?\n",
    "\n",
    "Learn how to improve your competition results by incorporating columns with **[missing values](https://www.kaggle.com/alexisbcook/missing-values)**."
   ]
  },
  {
   "cell_type": "markdown",
   "id": "6a30f9bc",
   "metadata": {
    "papermill": {
     "duration": 0.007704,
     "end_time": "2023-05-12T04:47:17.515475",
     "exception": false,
     "start_time": "2023-05-12T04:47:17.507771",
     "status": "completed"
    },
    "tags": []
   },
   "source": [
    "---\n",
    "\n",
    "\n",
    "\n",
    "\n",
    "*Have questions or comments? Visit the [course discussion forum](https://www.kaggle.com/learn/intermediate-machine-learning/discussion) to chat with other learners.*"
   ]
  }
 ],
 "metadata": {
  "kernelspec": {
   "display_name": "Python 3",
   "language": "python",
   "name": "python3"
  },
  "language_info": {
   "codemirror_mode": {
    "name": "ipython",
    "version": 3
   },
   "file_extension": ".py",
   "mimetype": "text/x-python",
   "name": "python",
   "nbconvert_exporter": "python",
   "pygments_lexer": "ipython3",
   "version": "3.10.10"
  },
  "papermill": {
   "default_parameters": {},
   "duration": 26.275986,
   "end_time": "2023-05-12T04:47:18.547283",
   "environment_variables": {},
   "exception": null,
   "input_path": "__notebook__.ipynb",
   "output_path": "__notebook__.ipynb",
   "parameters": {},
   "start_time": "2023-05-12T04:46:52.271297",
   "version": "2.4.0"
  }
 },
 "nbformat": 4,
 "nbformat_minor": 5
}
