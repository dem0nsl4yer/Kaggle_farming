{
 "cells": [
  {
   "cell_type": "code",
   "execution_count": 1,
   "id": "7840810a",
   "metadata": {
    "_cell_guid": "b1076dfc-b9ad-4769-8c92-a6c4dae69d19",
    "_uuid": "8f2839f25d086af736a60e9eeb907d3b93b6e0e5",
    "execution": {
     "iopub.execute_input": "2023-05-15T01:00:08.124318Z",
     "iopub.status.busy": "2023-05-15T01:00:08.123526Z",
     "iopub.status.idle": "2023-05-15T01:00:08.140933Z",
     "shell.execute_reply": "2023-05-15T01:00:08.139878Z"
    },
    "papermill": {
     "duration": 0.028292,
     "end_time": "2023-05-15T01:00:08.143415",
     "exception": false,
     "start_time": "2023-05-15T01:00:08.115123",
     "status": "completed"
    },
    "tags": []
   },
   "outputs": [
    {
     "name": "stdout",
     "output_type": "stream",
     "text": [
      "/kaggle/input/playground-series-s3e14/sample_submission.csv\n",
      "/kaggle/input/playground-series-s3e14/train.csv\n",
      "/kaggle/input/playground-series-s3e14/test.csv\n"
     ]
    }
   ],
   "source": [
    "# This Python 3 environment comes with many helpful analytics libraries installed\n",
    "# It is defined by the kaggle/python Docker image: https://github.com/kaggle/docker-python\n",
    "# For example, here's several helpful packages to load\n",
    "\n",
    "import numpy as np # linear algebra\n",
    "import pandas as pd # data processing, CSV file I/O (e.g. pd.read_csv)\n",
    "\n",
    "# Input data files are available in the read-only \"../input/\" directory\n",
    "# For example, running this (by clicking run or pressing Shift+Enter) will list all files under the input directory\n",
    "\n",
    "import os\n",
    "for dirname, _, filenames in os.walk('/kaggle/input'):\n",
    "    for filename in filenames:\n",
    "        print(os.path.join(dirname, filename))\n",
    "\n",
    "# You can write up to 20GB to the current directory (/kaggle/working/) that gets preserved as output when you create a version using \"Save & Run All\" \n",
    "# You can also write temporary files to /kaggle/temp/, but they won't be saved outside of the current session"
   ]
  },
  {
   "cell_type": "code",
   "execution_count": 2,
   "id": "217b2890",
   "metadata": {
    "execution": {
     "iopub.execute_input": "2023-05-15T01:00:08.156944Z",
     "iopub.status.busy": "2023-05-15T01:00:08.156292Z",
     "iopub.status.idle": "2023-05-15T01:00:08.316198Z",
     "shell.execute_reply": "2023-05-15T01:00:08.315011Z"
    },
    "papermill": {
     "duration": 0.169991,
     "end_time": "2023-05-15T01:00:08.319121",
     "exception": false,
     "start_time": "2023-05-15T01:00:08.149130",
     "status": "completed"
    },
    "tags": []
   },
   "outputs": [],
   "source": [
    "# reading train and test into pd files. \n",
    "\n",
    "X_train = pd.read_csv('/kaggle/input/playground-series-s3e14/train.csv')\n",
    "X_test = pd.read_csv('/kaggle/input/playground-series-s3e14/test.csv')"
   ]
  },
  {
   "cell_type": "code",
   "execution_count": 3,
   "id": "23ba2cc4",
   "metadata": {
    "execution": {
     "iopub.execute_input": "2023-05-15T01:00:08.333165Z",
     "iopub.status.busy": "2023-05-15T01:00:08.332634Z",
     "iopub.status.idle": "2023-05-15T01:00:08.353648Z",
     "shell.execute_reply": "2023-05-15T01:00:08.352703Z"
    },
    "papermill": {
     "duration": 0.031275,
     "end_time": "2023-05-15T01:00:08.355993",
     "exception": false,
     "start_time": "2023-05-15T01:00:08.324718",
     "status": "completed"
    },
    "tags": []
   },
   "outputs": [],
   "source": [
    "#  separate target from predictors\n",
    "y = X_train['yield']              \n",
    "X_train.drop(['yield'], axis=1, inplace=True)"
   ]
  },
  {
   "cell_type": "code",
   "execution_count": 4,
   "id": "d9f2f587",
   "metadata": {
    "execution": {
     "iopub.execute_input": "2023-05-15T01:00:08.369679Z",
     "iopub.status.busy": "2023-05-15T01:00:08.369045Z",
     "iopub.status.idle": "2023-05-15T01:00:08.409534Z",
     "shell.execute_reply": "2023-05-15T01:00:08.408456Z"
    },
    "papermill": {
     "duration": 0.050131,
     "end_time": "2023-05-15T01:00:08.412007",
     "exception": false,
     "start_time": "2023-05-15T01:00:08.361876",
     "status": "completed"
    },
    "tags": []
   },
   "outputs": [
    {
     "data": {
      "text/html": [
       "<div>\n",
       "<style scoped>\n",
       "    .dataframe tbody tr th:only-of-type {\n",
       "        vertical-align: middle;\n",
       "    }\n",
       "\n",
       "    .dataframe tbody tr th {\n",
       "        vertical-align: top;\n",
       "    }\n",
       "\n",
       "    .dataframe thead th {\n",
       "        text-align: right;\n",
       "    }\n",
       "</style>\n",
       "<table border=\"1\" class=\"dataframe\">\n",
       "  <thead>\n",
       "    <tr style=\"text-align: right;\">\n",
       "      <th></th>\n",
       "      <th>id</th>\n",
       "      <th>clonesize</th>\n",
       "      <th>honeybee</th>\n",
       "      <th>bumbles</th>\n",
       "      <th>andrena</th>\n",
       "      <th>osmia</th>\n",
       "      <th>MaxOfUpperTRange</th>\n",
       "      <th>MinOfUpperTRange</th>\n",
       "      <th>AverageOfUpperTRange</th>\n",
       "      <th>MaxOfLowerTRange</th>\n",
       "      <th>MinOfLowerTRange</th>\n",
       "      <th>AverageOfLowerTRange</th>\n",
       "      <th>RainingDays</th>\n",
       "      <th>AverageRainingDays</th>\n",
       "      <th>fruitset</th>\n",
       "      <th>fruitmass</th>\n",
       "      <th>seeds</th>\n",
       "    </tr>\n",
       "  </thead>\n",
       "  <tbody>\n",
       "    <tr>\n",
       "      <th>0</th>\n",
       "      <td>0</td>\n",
       "      <td>25.0</td>\n",
       "      <td>0.50</td>\n",
       "      <td>0.25</td>\n",
       "      <td>0.75</td>\n",
       "      <td>0.50</td>\n",
       "      <td>69.7</td>\n",
       "      <td>42.1</td>\n",
       "      <td>58.2</td>\n",
       "      <td>50.2</td>\n",
       "      <td>24.3</td>\n",
       "      <td>41.2</td>\n",
       "      <td>24.0</td>\n",
       "      <td>0.39</td>\n",
       "      <td>0.425011</td>\n",
       "      <td>0.417545</td>\n",
       "      <td>32.460887</td>\n",
       "    </tr>\n",
       "    <tr>\n",
       "      <th>1</th>\n",
       "      <td>1</td>\n",
       "      <td>25.0</td>\n",
       "      <td>0.50</td>\n",
       "      <td>0.25</td>\n",
       "      <td>0.50</td>\n",
       "      <td>0.50</td>\n",
       "      <td>69.7</td>\n",
       "      <td>42.1</td>\n",
       "      <td>58.2</td>\n",
       "      <td>50.2</td>\n",
       "      <td>24.3</td>\n",
       "      <td>41.2</td>\n",
       "      <td>24.0</td>\n",
       "      <td>0.39</td>\n",
       "      <td>0.444908</td>\n",
       "      <td>0.422051</td>\n",
       "      <td>33.858317</td>\n",
       "    </tr>\n",
       "    <tr>\n",
       "      <th>2</th>\n",
       "      <td>2</td>\n",
       "      <td>12.5</td>\n",
       "      <td>0.25</td>\n",
       "      <td>0.25</td>\n",
       "      <td>0.63</td>\n",
       "      <td>0.63</td>\n",
       "      <td>86.0</td>\n",
       "      <td>52.0</td>\n",
       "      <td>71.9</td>\n",
       "      <td>62.0</td>\n",
       "      <td>30.0</td>\n",
       "      <td>50.8</td>\n",
       "      <td>24.0</td>\n",
       "      <td>0.39</td>\n",
       "      <td>0.552927</td>\n",
       "      <td>0.470853</td>\n",
       "      <td>38.341781</td>\n",
       "    </tr>\n",
       "    <tr>\n",
       "      <th>3</th>\n",
       "      <td>3</td>\n",
       "      <td>12.5</td>\n",
       "      <td>0.25</td>\n",
       "      <td>0.25</td>\n",
       "      <td>0.63</td>\n",
       "      <td>0.50</td>\n",
       "      <td>77.4</td>\n",
       "      <td>46.8</td>\n",
       "      <td>64.7</td>\n",
       "      <td>55.8</td>\n",
       "      <td>27.0</td>\n",
       "      <td>45.8</td>\n",
       "      <td>24.0</td>\n",
       "      <td>0.39</td>\n",
       "      <td>0.565976</td>\n",
       "      <td>0.478137</td>\n",
       "      <td>39.467561</td>\n",
       "    </tr>\n",
       "    <tr>\n",
       "      <th>4</th>\n",
       "      <td>4</td>\n",
       "      <td>25.0</td>\n",
       "      <td>0.50</td>\n",
       "      <td>0.25</td>\n",
       "      <td>0.63</td>\n",
       "      <td>0.63</td>\n",
       "      <td>77.4</td>\n",
       "      <td>46.8</td>\n",
       "      <td>64.7</td>\n",
       "      <td>55.8</td>\n",
       "      <td>27.0</td>\n",
       "      <td>45.8</td>\n",
       "      <td>24.0</td>\n",
       "      <td>0.39</td>\n",
       "      <td>0.579677</td>\n",
       "      <td>0.494165</td>\n",
       "      <td>40.484512</td>\n",
       "    </tr>\n",
       "  </tbody>\n",
       "</table>\n",
       "</div>"
      ],
      "text/plain": [
       "   id  clonesize  honeybee  bumbles  andrena  osmia  MaxOfUpperTRange  \\\n",
       "0   0       25.0      0.50     0.25     0.75   0.50              69.7   \n",
       "1   1       25.0      0.50     0.25     0.50   0.50              69.7   \n",
       "2   2       12.5      0.25     0.25     0.63   0.63              86.0   \n",
       "3   3       12.5      0.25     0.25     0.63   0.50              77.4   \n",
       "4   4       25.0      0.50     0.25     0.63   0.63              77.4   \n",
       "\n",
       "   MinOfUpperTRange  AverageOfUpperTRange  MaxOfLowerTRange  MinOfLowerTRange  \\\n",
       "0              42.1                  58.2              50.2              24.3   \n",
       "1              42.1                  58.2              50.2              24.3   \n",
       "2              52.0                  71.9              62.0              30.0   \n",
       "3              46.8                  64.7              55.8              27.0   \n",
       "4              46.8                  64.7              55.8              27.0   \n",
       "\n",
       "   AverageOfLowerTRange  RainingDays  AverageRainingDays  fruitset  fruitmass  \\\n",
       "0                  41.2         24.0                0.39  0.425011   0.417545   \n",
       "1                  41.2         24.0                0.39  0.444908   0.422051   \n",
       "2                  50.8         24.0                0.39  0.552927   0.470853   \n",
       "3                  45.8         24.0                0.39  0.565976   0.478137   \n",
       "4                  45.8         24.0                0.39  0.579677   0.494165   \n",
       "\n",
       "       seeds  \n",
       "0  32.460887  \n",
       "1  33.858317  \n",
       "2  38.341781  \n",
       "3  39.467561  \n",
       "4  40.484512  "
      ]
     },
     "execution_count": 4,
     "metadata": {},
     "output_type": "execute_result"
    }
   ],
   "source": [
    "X_train.head()"
   ]
  },
  {
   "cell_type": "code",
   "execution_count": 5,
   "id": "ea5bec6c",
   "metadata": {
    "execution": {
     "iopub.execute_input": "2023-05-15T01:00:08.426443Z",
     "iopub.status.busy": "2023-05-15T01:00:08.425819Z",
     "iopub.status.idle": "2023-05-15T01:00:08.434193Z",
     "shell.execute_reply": "2023-05-15T01:00:08.432853Z"
    },
    "papermill": {
     "duration": 0.018928,
     "end_time": "2023-05-15T01:00:08.437020",
     "exception": false,
     "start_time": "2023-05-15T01:00:08.418092",
     "status": "completed"
    },
    "tags": []
   },
   "outputs": [
    {
     "data": {
      "text/plain": [
       "0    4476.81146\n",
       "1    5548.12201\n",
       "2    6869.77760\n",
       "3    6880.77590\n",
       "4    7479.93417\n",
       "Name: yield, dtype: float64"
      ]
     },
     "execution_count": 5,
     "metadata": {},
     "output_type": "execute_result"
    }
   ],
   "source": [
    "y.head()"
   ]
  },
  {
   "cell_type": "code",
   "execution_count": 6,
   "id": "30dce7fd",
   "metadata": {
    "execution": {
     "iopub.execute_input": "2023-05-15T01:00:08.451820Z",
     "iopub.status.busy": "2023-05-15T01:00:08.451383Z",
     "iopub.status.idle": "2023-05-15T01:00:08.460114Z",
     "shell.execute_reply": "2023-05-15T01:00:08.458929Z"
    },
    "papermill": {
     "duration": 0.019252,
     "end_time": "2023-05-15T01:00:08.462765",
     "exception": false,
     "start_time": "2023-05-15T01:00:08.443513",
     "status": "completed"
    },
    "tags": []
   },
   "outputs": [
    {
     "data": {
      "text/plain": [
       "(id                        int64\n",
       " clonesize               float64\n",
       " honeybee                float64\n",
       " bumbles                 float64\n",
       " andrena                 float64\n",
       " osmia                   float64\n",
       " MaxOfUpperTRange        float64\n",
       " MinOfUpperTRange        float64\n",
       " AverageOfUpperTRange    float64\n",
       " MaxOfLowerTRange        float64\n",
       " MinOfLowerTRange        float64\n",
       " AverageOfLowerTRange    float64\n",
       " RainingDays             float64\n",
       " AverageRainingDays      float64\n",
       " fruitset                float64\n",
       " fruitmass               float64\n",
       " seeds                   float64\n",
       " dtype: object,\n",
       " (15289, 17))"
      ]
     },
     "execution_count": 6,
     "metadata": {},
     "output_type": "execute_result"
    }
   ],
   "source": [
    "X_train.dtypes, X_train.shape"
   ]
  },
  {
   "cell_type": "code",
   "execution_count": null,
   "id": "4609bc45",
   "metadata": {
    "papermill": {
     "duration": 0.006462,
     "end_time": "2023-05-15T01:00:08.476382",
     "exception": false,
     "start_time": "2023-05-15T01:00:08.469920",
     "status": "completed"
    },
    "tags": []
   },
   "outputs": [],
   "source": [
    "\n"
   ]
  },
  {
   "cell_type": "code",
   "execution_count": 7,
   "id": "0e9021b7",
   "metadata": {
    "execution": {
     "iopub.execute_input": "2023-05-15T01:00:08.492145Z",
     "iopub.status.busy": "2023-05-15T01:00:08.491681Z",
     "iopub.status.idle": "2023-05-15T01:00:10.076227Z",
     "shell.execute_reply": "2023-05-15T01:00:10.074846Z"
    },
    "papermill": {
     "duration": 1.59664,
     "end_time": "2023-05-15T01:00:10.079634",
     "exception": false,
     "start_time": "2023-05-15T01:00:08.482994",
     "status": "completed"
    },
    "tags": []
   },
   "outputs": [
    {
     "name": "stderr",
     "output_type": "stream",
     "text": [
      "/opt/conda/lib/python3.10/site-packages/scipy/__init__.py:146: UserWarning: A NumPy version >=1.16.5 and <1.23.0 is required for this version of SciPy (detected version 1.23.5\n",
      "  warnings.warn(f\"A NumPy version >={np_minversion} and <{np_maxversion}\"\n"
     ]
    }
   ],
   "source": [
    "# Break off validation set from training data\n",
    "from sklearn.model_selection import train_test_split\n",
    "X_train_f, X_valid, y_train_f, y_valid = train_test_split(X_train, y, train_size=0.8, test_size=0.2,\n",
    "                                                                random_state=0)"
   ]
  },
  {
   "cell_type": "code",
   "execution_count": 8,
   "id": "f1675b5f",
   "metadata": {
    "execution": {
     "iopub.execute_input": "2023-05-15T01:00:10.096179Z",
     "iopub.status.busy": "2023-05-15T01:00:10.095668Z",
     "iopub.status.idle": "2023-05-15T01:00:11.482676Z",
     "shell.execute_reply": "2023-05-15T01:00:11.481730Z"
    },
    "papermill": {
     "duration": 1.399368,
     "end_time": "2023-05-15T01:00:11.485855",
     "exception": false,
     "start_time": "2023-05-15T01:00:10.086487",
     "status": "completed"
    },
    "tags": []
   },
   "outputs": [
    {
     "name": "stdout",
     "output_type": "stream",
     "text": [
      "Mean Absolute Error: 378.7298562911574\n"
     ]
    }
   ],
   "source": [
    "# As all numeric, no need to convert to one-hot. \n",
    "from xgboost import XGBRegressor\n",
    "from sklearn.metrics import mean_absolute_error\n",
    "\n",
    "# Define the model\n",
    "my_model_1 = XGBRegressor(random_state=0) \n",
    "\n",
    "# Fit the model\n",
    "my_model_1.fit(X_train_f, y_train_f)\n",
    "\n",
    "# Check your answer\n",
    "predictions_1 = my_model_1.predict(X_valid) \n",
    "\n",
    "# Calculate MAE\n",
    "mae_1 = mean_absolute_error(predictions_1, y_valid)\n",
    "print(\"Mean Absolute Error:\" , mae_1)"
   ]
  },
  {
   "cell_type": "code",
   "execution_count": 9,
   "id": "86bca57f",
   "metadata": {
    "execution": {
     "iopub.execute_input": "2023-05-15T01:00:11.502513Z",
     "iopub.status.busy": "2023-05-15T01:00:11.502067Z",
     "iopub.status.idle": "2023-05-15T01:01:12.646670Z",
     "shell.execute_reply": "2023-05-15T01:01:12.645679Z"
    },
    "papermill": {
     "duration": 61.155656,
     "end_time": "2023-05-15T01:01:12.649494",
     "exception": false,
     "start_time": "2023-05-15T01:00:11.493838",
     "status": "completed"
    },
    "tags": []
   },
   "outputs": [
    {
     "name": "stdout",
     "output_type": "stream",
     "text": [
      "Mean Absolute Error for learning rate 0.5 and estimators 1: 3007.6803225918698\n",
      "Mean Absolute Error for learning rate 0.1 and estimators 1: 5409.9235288066675\n",
      "Mean Absolute Error for learning rate 0.05 and estimators 1: 5710.511511179004\n",
      "Mean Absolute Error for learning rate 0.01 and estimators 1: 5950.981899309558\n",
      "Mean Absolute Error for learning rate 0.001 and estimators 1: 6005.087733609347\n",
      "Mean Absolute Error for learning rate 0.5 and estimators 10: 360.07251103971646\n",
      "Mean Absolute Error for learning rate 0.1 and estimators 10: 2099.8106413278824\n",
      "Mean Absolute Error for learning rate 0.05 and estimators 10: 3598.986634655732\n",
      "Mean Absolute Error for learning rate 0.01 and estimators 10: 5436.23806143904\n",
      "Mean Absolute Error for learning rate 0.001 and estimators 10: 5951.251451315851\n",
      "Mean Absolute Error for learning rate 0.5 and estimators 100: 393.6612516952972\n",
      "Mean Absolute Error for learning rate 0.1 and estimators 100: 359.2070452573935\n",
      "Mean Absolute Error for learning rate 0.05 and estimators 100: 356.10419411096404\n",
      "Mean Absolute Error for learning rate 0.01 and estimators 100: 2203.7126956299307\n",
      "Mean Absolute Error for learning rate 0.001 and estimators 100: 5438.710975641414\n",
      "Mean Absolute Error for learning rate 0.5 and estimators 1000: 425.2016340144702\n",
      "Mean Absolute Error for learning rate 0.1 and estimators 1000: 383.76873915012885\n",
      "Mean Absolute Error for learning rate 0.05 and estimators 1000: 370.43281835255374\n",
      "Mean Absolute Error for learning rate 0.01 and estimators 1000: 357.0501663880856\n",
      "Mean Absolute Error for learning rate 0.001 and estimators 1000: 2213.6521064813987\n"
     ]
    }
   ],
   "source": [
    "testing = [1, 10, 100, 1000]\n",
    "lr = [0.5, 0.1, 0.05, 0.01, 0.001]\n",
    "for t in testing:\n",
    "    for i in lr:\n",
    "        my_model_3 = XGBRegressor(n_estimators=t, learning_rate=i, n_jobs=4) \n",
    "\n",
    "        # Fit the model\n",
    "        my_model_3.fit(X_train_f, y_train_f) # Your code here\n",
    "\n",
    "        # Get predictions\n",
    "        predictions_3 = my_model_3.predict(X_valid)\n",
    "\n",
    "        # Calculate MAE\n",
    "        mae_3 = mean_absolute_error(predictions_3, y_valid)\n",
    "\n",
    "        # Uncomment to print MAE\n",
    "        print(f'Mean Absolute Error for learning rate {i} and estimators {t}:' , mae_3)"
   ]
  },
  {
   "cell_type": "code",
   "execution_count": 10,
   "id": "887560de",
   "metadata": {
    "execution": {
     "iopub.execute_input": "2023-05-15T01:01:12.668384Z",
     "iopub.status.busy": "2023-05-15T01:01:12.667940Z",
     "iopub.status.idle": "2023-05-15T01:01:13.813940Z",
     "shell.execute_reply": "2023-05-15T01:01:13.812648Z"
    },
    "papermill": {
     "duration": 1.157869,
     "end_time": "2023-05-15T01:01:13.816456",
     "exception": false,
     "start_time": "2023-05-15T01:01:12.658587",
     "status": "completed"
    },
    "tags": []
   },
   "outputs": [
    {
     "name": "stdout",
     "output_type": "stream",
     "text": [
      "Mean Absolute Error: 356.10419411096404\n"
     ]
    }
   ],
   "source": [
    "my_model_4 = XGBRegressor(n_estimators=100, learning_rate=0.05, n_jobs=4) \n",
    "\n",
    "\n",
    "# Fit the model\n",
    "my_model_4.fit(X_train_f, y_train_f) # Your code here\n",
    "\n",
    "# Get predictions\n",
    "predictions_4 = my_model_4.predict(X_valid)\n",
    "\n",
    "# Calculate MAE\n",
    "mae_4 = mean_absolute_error(predictions_4, y_valid)\n",
    "\n",
    "# Uncomment to print MAE\n",
    "print(f'Mean Absolute Error:' , mae_4)\n"
   ]
  },
  {
   "cell_type": "code",
   "execution_count": 11,
   "id": "2cfbe351",
   "metadata": {
    "execution": {
     "iopub.execute_input": "2023-05-15T01:01:13.834921Z",
     "iopub.status.busy": "2023-05-15T01:01:13.834476Z",
     "iopub.status.idle": "2023-05-15T01:01:13.865101Z",
     "shell.execute_reply": "2023-05-15T01:01:13.863851Z"
    },
    "papermill": {
     "duration": 0.042604,
     "end_time": "2023-05-15T01:01:13.867751",
     "exception": false,
     "start_time": "2023-05-15T01:01:13.825147",
     "status": "completed"
    },
    "tags": []
   },
   "outputs": [
    {
     "data": {
      "text/html": [
       "<div>\n",
       "<style scoped>\n",
       "    .dataframe tbody tr th:only-of-type {\n",
       "        vertical-align: middle;\n",
       "    }\n",
       "\n",
       "    .dataframe tbody tr th {\n",
       "        vertical-align: top;\n",
       "    }\n",
       "\n",
       "    .dataframe thead th {\n",
       "        text-align: right;\n",
       "    }\n",
       "</style>\n",
       "<table border=\"1\" class=\"dataframe\">\n",
       "  <thead>\n",
       "    <tr style=\"text-align: right;\">\n",
       "      <th></th>\n",
       "      <th>id</th>\n",
       "      <th>clonesize</th>\n",
       "      <th>honeybee</th>\n",
       "      <th>bumbles</th>\n",
       "      <th>andrena</th>\n",
       "      <th>osmia</th>\n",
       "      <th>MaxOfUpperTRange</th>\n",
       "      <th>MinOfUpperTRange</th>\n",
       "      <th>AverageOfUpperTRange</th>\n",
       "      <th>MaxOfLowerTRange</th>\n",
       "      <th>MinOfLowerTRange</th>\n",
       "      <th>AverageOfLowerTRange</th>\n",
       "      <th>RainingDays</th>\n",
       "      <th>AverageRainingDays</th>\n",
       "      <th>fruitset</th>\n",
       "      <th>fruitmass</th>\n",
       "      <th>seeds</th>\n",
       "    </tr>\n",
       "  </thead>\n",
       "  <tbody>\n",
       "    <tr>\n",
       "      <th>0</th>\n",
       "      <td>15289</td>\n",
       "      <td>25.0</td>\n",
       "      <td>0.25</td>\n",
       "      <td>0.25</td>\n",
       "      <td>0.25</td>\n",
       "      <td>0.25</td>\n",
       "      <td>86.0</td>\n",
       "      <td>52.0</td>\n",
       "      <td>71.9</td>\n",
       "      <td>62.0</td>\n",
       "      <td>30.0</td>\n",
       "      <td>50.8</td>\n",
       "      <td>24.0</td>\n",
       "      <td>0.39</td>\n",
       "      <td>0.399367</td>\n",
       "      <td>0.408088</td>\n",
       "      <td>31.394569</td>\n",
       "    </tr>\n",
       "    <tr>\n",
       "      <th>1</th>\n",
       "      <td>15290</td>\n",
       "      <td>12.5</td>\n",
       "      <td>0.25</td>\n",
       "      <td>0.25</td>\n",
       "      <td>0.75</td>\n",
       "      <td>0.63</td>\n",
       "      <td>94.6</td>\n",
       "      <td>57.2</td>\n",
       "      <td>79.0</td>\n",
       "      <td>68.2</td>\n",
       "      <td>33.0</td>\n",
       "      <td>55.9</td>\n",
       "      <td>1.0</td>\n",
       "      <td>0.10</td>\n",
       "      <td>0.488048</td>\n",
       "      <td>0.442866</td>\n",
       "      <td>36.846956</td>\n",
       "    </tr>\n",
       "    <tr>\n",
       "      <th>2</th>\n",
       "      <td>15291</td>\n",
       "      <td>12.5</td>\n",
       "      <td>0.25</td>\n",
       "      <td>0.25</td>\n",
       "      <td>0.63</td>\n",
       "      <td>0.63</td>\n",
       "      <td>86.0</td>\n",
       "      <td>52.0</td>\n",
       "      <td>71.9</td>\n",
       "      <td>62.0</td>\n",
       "      <td>30.0</td>\n",
       "      <td>50.8</td>\n",
       "      <td>16.0</td>\n",
       "      <td>0.26</td>\n",
       "      <td>0.583379</td>\n",
       "      <td>0.487057</td>\n",
       "      <td>40.037644</td>\n",
       "    </tr>\n",
       "    <tr>\n",
       "      <th>3</th>\n",
       "      <td>15292</td>\n",
       "      <td>25.0</td>\n",
       "      <td>0.50</td>\n",
       "      <td>0.38</td>\n",
       "      <td>0.38</td>\n",
       "      <td>0.63</td>\n",
       "      <td>86.0</td>\n",
       "      <td>52.0</td>\n",
       "      <td>71.9</td>\n",
       "      <td>62.0</td>\n",
       "      <td>30.0</td>\n",
       "      <td>50.8</td>\n",
       "      <td>16.0</td>\n",
       "      <td>0.26</td>\n",
       "      <td>0.433014</td>\n",
       "      <td>0.422847</td>\n",
       "      <td>33.116091</td>\n",
       "    </tr>\n",
       "    <tr>\n",
       "      <th>4</th>\n",
       "      <td>15293</td>\n",
       "      <td>37.5</td>\n",
       "      <td>0.75</td>\n",
       "      <td>0.25</td>\n",
       "      <td>0.25</td>\n",
       "      <td>0.25</td>\n",
       "      <td>94.6</td>\n",
       "      <td>57.2</td>\n",
       "      <td>79.0</td>\n",
       "      <td>68.2</td>\n",
       "      <td>33.0</td>\n",
       "      <td>55.9</td>\n",
       "      <td>24.0</td>\n",
       "      <td>0.39</td>\n",
       "      <td>0.360996</td>\n",
       "      <td>0.388860</td>\n",
       "      <td>29.558019</td>\n",
       "    </tr>\n",
       "  </tbody>\n",
       "</table>\n",
       "</div>"
      ],
      "text/plain": [
       "      id  clonesize  honeybee  bumbles  andrena  osmia  MaxOfUpperTRange  \\\n",
       "0  15289       25.0      0.25     0.25     0.25   0.25              86.0   \n",
       "1  15290       12.5      0.25     0.25     0.75   0.63              94.6   \n",
       "2  15291       12.5      0.25     0.25     0.63   0.63              86.0   \n",
       "3  15292       25.0      0.50     0.38     0.38   0.63              86.0   \n",
       "4  15293       37.5      0.75     0.25     0.25   0.25              94.6   \n",
       "\n",
       "   MinOfUpperTRange  AverageOfUpperTRange  MaxOfLowerTRange  MinOfLowerTRange  \\\n",
       "0              52.0                  71.9              62.0              30.0   \n",
       "1              57.2                  79.0              68.2              33.0   \n",
       "2              52.0                  71.9              62.0              30.0   \n",
       "3              52.0                  71.9              62.0              30.0   \n",
       "4              57.2                  79.0              68.2              33.0   \n",
       "\n",
       "   AverageOfLowerTRange  RainingDays  AverageRainingDays  fruitset  fruitmass  \\\n",
       "0                  50.8         24.0                0.39  0.399367   0.408088   \n",
       "1                  55.9          1.0                0.10  0.488048   0.442866   \n",
       "2                  50.8         16.0                0.26  0.583379   0.487057   \n",
       "3                  50.8         16.0                0.26  0.433014   0.422847   \n",
       "4                  55.9         24.0                0.39  0.360996   0.388860   \n",
       "\n",
       "       seeds  \n",
       "0  31.394569  \n",
       "1  36.846956  \n",
       "2  40.037644  \n",
       "3  33.116091  \n",
       "4  29.558019  "
      ]
     },
     "execution_count": 11,
     "metadata": {},
     "output_type": "execute_result"
    }
   ],
   "source": [
    "X_test.head()"
   ]
  },
  {
   "cell_type": "code",
   "execution_count": 12,
   "id": "8a340355",
   "metadata": {
    "execution": {
     "iopub.execute_input": "2023-05-15T01:01:13.890355Z",
     "iopub.status.busy": "2023-05-15T01:01:13.889502Z",
     "iopub.status.idle": "2023-05-15T01:01:13.930231Z",
     "shell.execute_reply": "2023-05-15T01:01:13.929226Z"
    },
    "papermill": {
     "duration": 0.056537,
     "end_time": "2023-05-15T01:01:13.933002",
     "exception": false,
     "start_time": "2023-05-15T01:01:13.876465",
     "status": "completed"
    },
    "tags": []
   },
   "outputs": [],
   "source": [
    "# Generate test predictions \n",
    "preds_test = my_model_4.predict(X_test)"
   ]
  },
  {
   "cell_type": "code",
   "execution_count": 13,
   "id": "0feec92f",
   "metadata": {
    "execution": {
     "iopub.execute_input": "2023-05-15T01:01:13.951836Z",
     "iopub.status.busy": "2023-05-15T01:01:13.951386Z",
     "iopub.status.idle": "2023-05-15T01:01:14.000512Z",
     "shell.execute_reply": "2023-05-15T01:01:13.999024Z"
    },
    "papermill": {
     "duration": 0.062042,
     "end_time": "2023-05-15T01:01:14.003724",
     "exception": false,
     "start_time": "2023-05-15T01:01:13.941682",
     "status": "completed"
    },
    "tags": []
   },
   "outputs": [],
   "source": [
    "# Save predictions in format used for competition scoring\n",
    "output = pd.DataFrame({'id': X_test.id,\n",
    "                       'yield': preds_test})\n",
    "output.to_csv('submission.csv', index=False)"
   ]
  },
  {
   "cell_type": "code",
   "execution_count": null,
   "id": "d9760e9e",
   "metadata": {
    "papermill": {
     "duration": 0.008296,
     "end_time": "2023-05-15T01:01:14.020689",
     "exception": false,
     "start_time": "2023-05-15T01:01:14.012393",
     "status": "completed"
    },
    "tags": []
   },
   "outputs": [],
   "source": []
  }
 ],
 "metadata": {
  "kernelspec": {
   "display_name": "Python 3",
   "language": "python",
   "name": "python3"
  },
  "language_info": {
   "codemirror_mode": {
    "name": "ipython",
    "version": 3
   },
   "file_extension": ".py",
   "mimetype": "text/x-python",
   "name": "python",
   "nbconvert_exporter": "python",
   "pygments_lexer": "ipython3",
   "version": "3.10.10"
  },
  "papermill": {
   "default_parameters": {},
   "duration": 81.92701,
   "end_time": "2023-05-15T01:01:16.399053",
   "environment_variables": {},
   "exception": null,
   "input_path": "__notebook__.ipynb",
   "output_path": "__notebook__.ipynb",
   "parameters": {},
   "start_time": "2023-05-15T00:59:54.472043",
   "version": "2.4.0"
  }
 },
 "nbformat": 4,
 "nbformat_minor": 5
}
