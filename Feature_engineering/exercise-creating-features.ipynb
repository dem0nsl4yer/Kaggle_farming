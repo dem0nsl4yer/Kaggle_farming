{
 "cells": [
  {
   "cell_type": "markdown",
   "id": "8eb5291c",
   "metadata": {
    "papermill": {
     "duration": 0.007885,
     "end_time": "2023-05-16T04:48:55.897890",
     "exception": false,
     "start_time": "2023-05-16T04:48:55.890005",
     "status": "completed"
    },
    "tags": []
   },
   "source": [
    "**This notebook is an exercise in the [Feature Engineering](https://www.kaggle.com/learn/feature-engineering) course.  You can reference the tutorial at [this link](https://www.kaggle.com/ryanholbrook/creating-features).**\n",
    "\n",
    "---\n"
   ]
  },
  {
   "cell_type": "markdown",
   "id": "1ad4b4bf",
   "metadata": {
    "papermill": {
     "duration": 0.006865,
     "end_time": "2023-05-16T04:48:55.912087",
     "exception": false,
     "start_time": "2023-05-16T04:48:55.905222",
     "status": "completed"
    },
    "tags": []
   },
   "source": [
    "# Introduction #\n",
    "\n",
    "In this exercise you'll start developing the features you identified in Exercise 2 as having the most potential. As you work through this exercise, you might take a moment to look at the data documentation again and consider whether the features we're creating make sense from a real-world perspective, and whether there are any useful combinations that stand out to you.\n",
    "\n",
    "Run this cell to set everything up!"
   ]
  },
  {
   "cell_type": "code",
   "execution_count": 1,
   "id": "23a2841b",
   "metadata": {
    "execution": {
     "iopub.execute_input": "2023-05-16T04:48:55.928799Z",
     "iopub.status.busy": "2023-05-16T04:48:55.928163Z",
     "iopub.status.idle": "2023-05-16T04:48:57.716439Z",
     "shell.execute_reply": "2023-05-16T04:48:57.715167Z"
    },
    "papermill": {
     "duration": 1.800082,
     "end_time": "2023-05-16T04:48:57.719403",
     "exception": false,
     "start_time": "2023-05-16T04:48:55.919321",
     "status": "completed"
    },
    "tags": []
   },
   "outputs": [
    {
     "name": "stderr",
     "output_type": "stream",
     "text": [
      "/opt/conda/lib/python3.10/site-packages/scipy/__init__.py:146: UserWarning: A NumPy version >=1.16.5 and <1.23.0 is required for this version of SciPy (detected version 1.23.5\n",
      "  warnings.warn(f\"A NumPy version >={np_minversion} and <{np_maxversion}\"\n"
     ]
    }
   ],
   "source": [
    "# Setup feedback system\n",
    "from learntools.core import binder\n",
    "binder.bind(globals())\n",
    "from learntools.feature_engineering_new.ex3 import *\n",
    "\n",
    "import numpy as np\n",
    "import pandas as pd\n",
    "from sklearn.model_selection import cross_val_score\n",
    "from xgboost import XGBRegressor\n",
    "\n",
    "\n",
    "def score_dataset(X, y, model=XGBRegressor()):\n",
    "    # Label encoding for categoricals\n",
    "    for colname in X.select_dtypes([\"category\", \"object\"]):\n",
    "        X[colname], _ = X[colname].factorize()\n",
    "    # Metric for Housing competition is RMSLE (Root Mean Squared Log Error)\n",
    "    score = cross_val_score(\n",
    "        model, X, y, cv=5, scoring=\"neg_mean_squared_log_error\",\n",
    "    )\n",
    "    score = -1 * score.mean()\n",
    "    score = np.sqrt(score)\n",
    "    return score\n",
    "\n",
    "\n",
    "# Prepare data\n",
    "df = pd.read_csv(\"../input/fe-course-data/ames.csv\")\n",
    "X = df.copy()\n",
    "y = X.pop(\"SalePrice\")"
   ]
  },
  {
   "cell_type": "markdown",
   "id": "ac2734b4",
   "metadata": {
    "papermill": {
     "duration": 0.007178,
     "end_time": "2023-05-16T04:48:57.734130",
     "exception": false,
     "start_time": "2023-05-16T04:48:57.726952",
     "status": "completed"
    },
    "tags": []
   },
   "source": [
    "-------------------------------------------------------------------------------\n",
    "\n",
    "Let's start with a few mathematical combinations. We'll focus on features describing areas -- having the same units (square-feet) makes it easy to combine them in sensible ways. Since we're using XGBoost (a tree-based model), we'll focus on ratios and sums.\n",
    "\n",
    "# 1) Create Mathematical Transforms\n",
    "\n",
    "Create the following features:\n",
    "\n",
    "- `LivLotRatio`: the ratio of `GrLivArea` to `LotArea`\n",
    "- `Spaciousness`: the sum of `FirstFlrSF` and `SecondFlrSF` divided by `TotRmsAbvGrd`\n",
    "- `TotalOutsideSF`: the sum of `WoodDeckSF`, `OpenPorchSF`, `EnclosedPorch`, `Threeseasonporch`, and `ScreenPorch`"
   ]
  },
  {
   "cell_type": "code",
   "execution_count": 2,
   "id": "fa7ff6a2",
   "metadata": {
    "execution": {
     "iopub.execute_input": "2023-05-16T04:48:57.750768Z",
     "iopub.status.busy": "2023-05-16T04:48:57.750321Z",
     "iopub.status.idle": "2023-05-16T04:48:57.777579Z",
     "shell.execute_reply": "2023-05-16T04:48:57.776316Z"
    },
    "lines_to_next_cell": 0,
    "papermill": {
     "duration": 0.038745,
     "end_time": "2023-05-16T04:48:57.780230",
     "exception": false,
     "start_time": "2023-05-16T04:48:57.741485",
     "status": "completed"
    },
    "tags": []
   },
   "outputs": [
    {
     "data": {
      "application/javascript": [
       "parent.postMessage({\"jupyterEvent\": \"custom.exercise_interaction\", \"data\": {\"outcomeType\": 1, \"valueTowardsCompletion\": 0.2, \"interactionType\": 1, \"questionType\": 2, \"questionId\": \"1_Q1\", \"learnToolsVersion\": \"0.3.4\", \"failureMessage\": \"\", \"exceptionClass\": \"\", \"trace\": \"\"}}, \"*\")"
      ],
      "text/plain": [
       "<IPython.core.display.Javascript object>"
      ]
     },
     "metadata": {},
     "output_type": "display_data"
    },
    {
     "data": {
      "text/markdown": [
       "<span style=\"color:#33cc33\">Correct</span>"
      ],
      "text/plain": [
       "Correct"
      ]
     },
     "metadata": {},
     "output_type": "display_data"
    }
   ],
   "source": [
    "# YOUR CODE HERE\n",
    "X_1 = pd.DataFrame()  # dataframe to hold new features\n",
    "\n",
    "X_1[\"LivLotRatio\"] = X['GrLivArea']/X['LotArea']\n",
    "X_1[\"Spaciousness\"] = (X['FirstFlrSF'] + X['SecondFlrSF'] )/X['TotRmsAbvGrd']\n",
    "X_1[\"TotalOutsideSF\"] = X['WoodDeckSF'] + X['OpenPorchSF'] + X['EnclosedPorch'] + X['Threeseasonporch'] + X['ScreenPorch']\n",
    "\n",
    "\n",
    "# Check your answer\n",
    "q_1.check()"
   ]
  },
  {
   "cell_type": "code",
   "execution_count": 3,
   "id": "1475263d",
   "metadata": {
    "execution": {
     "iopub.execute_input": "2023-05-16T04:48:57.798503Z",
     "iopub.status.busy": "2023-05-16T04:48:57.797848Z",
     "iopub.status.idle": "2023-05-16T04:48:57.802355Z",
     "shell.execute_reply": "2023-05-16T04:48:57.801562Z"
    },
    "lines_to_next_cell": 0,
    "papermill": {
     "duration": 0.016627,
     "end_time": "2023-05-16T04:48:57.804819",
     "exception": false,
     "start_time": "2023-05-16T04:48:57.788192",
     "status": "completed"
    },
    "tags": []
   },
   "outputs": [],
   "source": [
    "# Lines below will give you a hint or solution code\n",
    "#q_1.hint()\n",
    "#q_1.solution()"
   ]
  },
  {
   "cell_type": "markdown",
   "id": "19f97014",
   "metadata": {
    "papermill": {
     "duration": 0.007644,
     "end_time": "2023-05-16T04:48:57.820369",
     "exception": false,
     "start_time": "2023-05-16T04:48:57.812725",
     "status": "completed"
    },
    "tags": []
   },
   "source": [
    "-------------------------------------------------------------------------------\n",
    "\n",
    "If you've discovered an interaction effect between a numeric feature and a categorical feature, you might want to model it explicitly using a one-hot encoding, like so:\n",
    "\n",
    "```\n",
    "# One-hot encode Categorical feature, adding a column prefix \"Cat\"\n",
    "X_new = pd.get_dummies(df.Categorical, prefix=\"Cat\")\n",
    "\n",
    "# Multiply row-by-row\n",
    "X_new = X_new.mul(df.Continuous, axis=0)\n",
    "\n",
    "# Join the new features to the feature set\n",
    "X = X.join(X_new)\n",
    "```\n",
    "\n",
    "# 2) Interaction with a Categorical\n",
    "\n",
    "We discovered an interaction between `BldgType` and `GrLivArea` in Exercise 2. Now create their interaction features."
   ]
  },
  {
   "cell_type": "code",
   "execution_count": 4,
   "id": "a60fa658",
   "metadata": {
    "execution": {
     "iopub.execute_input": "2023-05-16T04:48:57.838146Z",
     "iopub.status.busy": "2023-05-16T04:48:57.837491Z",
     "iopub.status.idle": "2023-05-16T04:48:57.854670Z",
     "shell.execute_reply": "2023-05-16T04:48:57.853396Z"
    },
    "lines_to_next_cell": 0,
    "papermill": {
     "duration": 0.029119,
     "end_time": "2023-05-16T04:48:57.857311",
     "exception": false,
     "start_time": "2023-05-16T04:48:57.828192",
     "status": "completed"
    },
    "tags": []
   },
   "outputs": [
    {
     "data": {
      "application/javascript": [
       "parent.postMessage({\"jupyterEvent\": \"custom.exercise_interaction\", \"data\": {\"outcomeType\": 1, \"valueTowardsCompletion\": 0.2, \"interactionType\": 1, \"questionType\": 2, \"questionId\": \"2_Q2\", \"learnToolsVersion\": \"0.3.4\", \"failureMessage\": \"\", \"exceptionClass\": \"\", \"trace\": \"\"}}, \"*\")"
      ],
      "text/plain": [
       "<IPython.core.display.Javascript object>"
      ]
     },
     "metadata": {},
     "output_type": "display_data"
    },
    {
     "data": {
      "text/markdown": [
       "<span style=\"color:#33cc33\">Correct</span>"
      ],
      "text/plain": [
       "Correct"
      ]
     },
     "metadata": {},
     "output_type": "display_data"
    }
   ],
   "source": [
    "# YOUR CODE HERE\n",
    "# One-hot encode BldgType. Use `prefix=\"Bldg\"` in `get_dummies`\n",
    "X_2 = pd.get_dummies(df.BldgType, prefix= 'Bldg')\n",
    "# Multiply\n",
    "X_2 = X_2.mul(df.GrLivArea, axis=0)\n",
    "\n",
    "\n",
    "# Check your answer\n",
    "q_2.check()"
   ]
  },
  {
   "cell_type": "code",
   "execution_count": 5,
   "id": "92e3b06c",
   "metadata": {
    "execution": {
     "iopub.execute_input": "2023-05-16T04:48:57.876218Z",
     "iopub.status.busy": "2023-05-16T04:48:57.875818Z",
     "iopub.status.idle": "2023-05-16T04:48:57.881362Z",
     "shell.execute_reply": "2023-05-16T04:48:57.879815Z"
    },
    "lines_to_next_cell": 0,
    "papermill": {
     "duration": 0.017953,
     "end_time": "2023-05-16T04:48:57.884095",
     "exception": false,
     "start_time": "2023-05-16T04:48:57.866142",
     "status": "completed"
    },
    "tags": []
   },
   "outputs": [],
   "source": [
    "# Lines below will give you a hint or solution code\n",
    "#q_2.hint()\n",
    "#q_2.solution()"
   ]
  },
  {
   "cell_type": "markdown",
   "id": "a24ad4c1",
   "metadata": {
    "lines_to_next_cell": 0,
    "papermill": {
     "duration": 0.007889,
     "end_time": "2023-05-16T04:48:57.900159",
     "exception": false,
     "start_time": "2023-05-16T04:48:57.892270",
     "status": "completed"
    },
    "tags": []
   },
   "source": [
    "# 3) Count Feature\n",
    "\n",
    "Let's try creating a feature that describes how many kinds of outdoor areas a dwelling has. Create a feature `PorchTypes` that counts how many of the following are greater than 0.0:\n",
    "\n",
    "```\n",
    "WoodDeckSF\n",
    "OpenPorchSF\n",
    "EnclosedPorch\n",
    "Threeseasonporch\n",
    "ScreenPorch\n",
    "```"
   ]
  },
  {
   "cell_type": "code",
   "execution_count": 6,
   "id": "48e6d872",
   "metadata": {
    "execution": {
     "iopub.execute_input": "2023-05-16T04:48:57.919905Z",
     "iopub.status.busy": "2023-05-16T04:48:57.919040Z",
     "iopub.status.idle": "2023-05-16T04:48:57.937258Z",
     "shell.execute_reply": "2023-05-16T04:48:57.936139Z"
    },
    "lines_to_next_cell": 0,
    "papermill": {
     "duration": 0.031111,
     "end_time": "2023-05-16T04:48:57.939861",
     "exception": false,
     "start_time": "2023-05-16T04:48:57.908750",
     "status": "completed"
    },
    "tags": []
   },
   "outputs": [
    {
     "data": {
      "application/javascript": [
       "parent.postMessage({\"jupyterEvent\": \"custom.exercise_interaction\", \"data\": {\"outcomeType\": 1, \"valueTowardsCompletion\": 0.2, \"interactionType\": 1, \"questionType\": 2, \"questionId\": \"3_Q3\", \"learnToolsVersion\": \"0.3.4\", \"failureMessage\": \"\", \"exceptionClass\": \"\", \"trace\": \"\"}}, \"*\")"
      ],
      "text/plain": [
       "<IPython.core.display.Javascript object>"
      ]
     },
     "metadata": {},
     "output_type": "display_data"
    },
    {
     "data": {
      "text/markdown": [
       "<span style=\"color:#33cc33\">Correct</span>"
      ],
      "text/plain": [
       "Correct"
      ]
     },
     "metadata": {},
     "output_type": "display_data"
    }
   ],
   "source": [
    "X_3 = pd.DataFrame()\n",
    "\n",
    "features = ['WoodDeckSF', 'OpenPorchSF', 'EnclosedPorch', 'Threeseasonporch', 'ScreenPorch']\n",
    "# YOUR CODE HERE\n",
    "X_3['PorchTypes'] = df[features].gt(0).sum(axis=1)\n",
    "\n",
    "\n",
    "# Check your answer\n",
    "q_3.check()"
   ]
  },
  {
   "cell_type": "code",
   "execution_count": 7,
   "id": "ef41285b",
   "metadata": {
    "execution": {
     "iopub.execute_input": "2023-05-16T04:48:57.959634Z",
     "iopub.status.busy": "2023-05-16T04:48:57.958826Z",
     "iopub.status.idle": "2023-05-16T04:48:57.964326Z",
     "shell.execute_reply": "2023-05-16T04:48:57.963021Z"
    },
    "lines_to_next_cell": 0,
    "papermill": {
     "duration": 0.018387,
     "end_time": "2023-05-16T04:48:57.967044",
     "exception": false,
     "start_time": "2023-05-16T04:48:57.948657",
     "status": "completed"
    },
    "tags": []
   },
   "outputs": [],
   "source": [
    "# Lines below will give you a hint or solution code\n",
    "#q_3.hint()\n",
    "#q_3.solution()"
   ]
  },
  {
   "cell_type": "markdown",
   "id": "c4c1f104",
   "metadata": {
    "papermill": {
     "duration": 0.008328,
     "end_time": "2023-05-16T04:48:57.983855",
     "exception": false,
     "start_time": "2023-05-16T04:48:57.975527",
     "status": "completed"
    },
    "tags": []
   },
   "source": [
    "# 4) Break Down a Categorical Feature\n",
    "\n",
    "`MSSubClass` describes the type of a dwelling:"
   ]
  },
  {
   "cell_type": "code",
   "execution_count": 8,
   "id": "354d4023",
   "metadata": {
    "execution": {
     "iopub.execute_input": "2023-05-16T04:48:58.002840Z",
     "iopub.status.busy": "2023-05-16T04:48:58.002414Z",
     "iopub.status.idle": "2023-05-16T04:48:58.011844Z",
     "shell.execute_reply": "2023-05-16T04:48:58.010628Z"
    },
    "papermill": {
     "duration": 0.021862,
     "end_time": "2023-05-16T04:48:58.014245",
     "exception": false,
     "start_time": "2023-05-16T04:48:57.992383",
     "status": "completed"
    },
    "tags": []
   },
   "outputs": [
    {
     "data": {
      "text/plain": [
       "array(['One_Story_1946_and_Newer_All_Styles', 'Two_Story_1946_and_Newer',\n",
       "       'One_Story_PUD_1946_and_Newer',\n",
       "       'One_and_Half_Story_Finished_All_Ages', 'Split_Foyer',\n",
       "       'Two_Story_PUD_1946_and_Newer', 'Split_or_Multilevel',\n",
       "       'One_Story_1945_and_Older', 'Duplex_All_Styles_and_Ages',\n",
       "       'Two_Family_conversion_All_Styles_and_Ages',\n",
       "       'One_and_Half_Story_Unfinished_All_Ages',\n",
       "       'Two_Story_1945_and_Older', 'Two_and_Half_Story_All_Ages',\n",
       "       'One_Story_with_Finished_Attic_All_Ages',\n",
       "       'PUD_Multilevel_Split_Level_Foyer',\n",
       "       'One_and_Half_Story_PUD_All_Ages'], dtype=object)"
      ]
     },
     "execution_count": 8,
     "metadata": {},
     "output_type": "execute_result"
    }
   ],
   "source": [
    "df.MSSubClass.unique()"
   ]
  },
  {
   "cell_type": "markdown",
   "id": "dc49a431",
   "metadata": {
    "papermill": {
     "duration": 0.008387,
     "end_time": "2023-05-16T04:48:58.031409",
     "exception": false,
     "start_time": "2023-05-16T04:48:58.023022",
     "status": "completed"
    },
    "tags": []
   },
   "source": [
    "You can see that there is a more general categorization described (roughly) by the first word of each category. Create a feature containing only these first words by splitting `MSSubClass` at the first underscore `_`. (Hint: In the `split` method use an argument `n=1`.)"
   ]
  },
  {
   "cell_type": "code",
   "execution_count": 9,
   "id": "047a7a39",
   "metadata": {
    "execution": {
     "iopub.execute_input": "2023-05-16T04:48:58.050638Z",
     "iopub.status.busy": "2023-05-16T04:48:58.050222Z",
     "iopub.status.idle": "2023-05-16T04:48:58.080180Z",
     "shell.execute_reply": "2023-05-16T04:48:58.079060Z"
    },
    "lines_to_next_cell": 0,
    "papermill": {
     "duration": 0.042622,
     "end_time": "2023-05-16T04:48:58.082658",
     "exception": false,
     "start_time": "2023-05-16T04:48:58.040036",
     "status": "completed"
    },
    "tags": []
   },
   "outputs": [
    {
     "data": {
      "application/javascript": [
       "parent.postMessage({\"jupyterEvent\": \"custom.exercise_interaction\", \"data\": {\"outcomeType\": 1, \"valueTowardsCompletion\": 0.2, \"interactionType\": 1, \"questionType\": 2, \"questionId\": \"4_Q4\", \"learnToolsVersion\": \"0.3.4\", \"failureMessage\": \"\", \"exceptionClass\": \"\", \"trace\": \"\"}}, \"*\")"
      ],
      "text/plain": [
       "<IPython.core.display.Javascript object>"
      ]
     },
     "metadata": {},
     "output_type": "display_data"
    },
    {
     "data": {
      "text/markdown": [
       "<span style=\"color:#33cc33\">Correct</span>"
      ],
      "text/plain": [
       "Correct"
      ]
     },
     "metadata": {},
     "output_type": "display_data"
    }
   ],
   "source": [
    "X_4 = pd.DataFrame()\n",
    "\n",
    "# YOUR CODE HERE\n",
    "X_4['MSClass'] =df.MSSubClass.str.split('_',n=1, expand=True)[0]\n",
    "\n",
    "# Check your answer\n",
    "q_4.check()"
   ]
  },
  {
   "cell_type": "code",
   "execution_count": 10,
   "id": "28fd0290",
   "metadata": {
    "execution": {
     "iopub.execute_input": "2023-05-16T04:48:58.102475Z",
     "iopub.status.busy": "2023-05-16T04:48:58.102081Z",
     "iopub.status.idle": "2023-05-16T04:48:58.106993Z",
     "shell.execute_reply": "2023-05-16T04:48:58.105711Z"
    },
    "lines_to_next_cell": 0,
    "papermill": {
     "duration": 0.017659,
     "end_time": "2023-05-16T04:48:58.109386",
     "exception": false,
     "start_time": "2023-05-16T04:48:58.091727",
     "status": "completed"
    },
    "tags": []
   },
   "outputs": [],
   "source": [
    "# Lines below will give you a hint or solution code\n",
    "#q_4.hint()\n",
    "#q_4.solution()"
   ]
  },
  {
   "cell_type": "markdown",
   "id": "cfd77faf",
   "metadata": {
    "papermill": {
     "duration": 0.008866,
     "end_time": "2023-05-16T04:48:58.127870",
     "exception": false,
     "start_time": "2023-05-16T04:48:58.119004",
     "status": "completed"
    },
    "tags": []
   },
   "source": [
    "# 5) Use a Grouped Transform\n",
    "\n",
    "The value of a home often depends on how it compares to typical homes in its neighborhood. Create a feature `MedNhbdArea` that describes the *median* of `GrLivArea` grouped on `Neighborhood`."
   ]
  },
  {
   "cell_type": "code",
   "execution_count": 11,
   "id": "b4116db8",
   "metadata": {
    "execution": {
     "iopub.execute_input": "2023-05-16T04:48:58.147989Z",
     "iopub.status.busy": "2023-05-16T04:48:58.147595Z",
     "iopub.status.idle": "2023-05-16T04:48:58.168347Z",
     "shell.execute_reply": "2023-05-16T04:48:58.166992Z"
    },
    "lines_to_next_cell": 0,
    "papermill": {
     "duration": 0.033611,
     "end_time": "2023-05-16T04:48:58.170579",
     "exception": false,
     "start_time": "2023-05-16T04:48:58.136968",
     "status": "completed"
    },
    "tags": []
   },
   "outputs": [
    {
     "data": {
      "application/javascript": [
       "parent.postMessage({\"jupyterEvent\": \"custom.exercise_interaction\", \"data\": {\"outcomeType\": 1, \"valueTowardsCompletion\": 0.2, \"interactionType\": 1, \"questionType\": 2, \"questionId\": \"5_Q5\", \"learnToolsVersion\": \"0.3.4\", \"failureMessage\": \"\", \"exceptionClass\": \"\", \"trace\": \"\"}}, \"*\")"
      ],
      "text/plain": [
       "<IPython.core.display.Javascript object>"
      ]
     },
     "metadata": {},
     "output_type": "display_data"
    },
    {
     "data": {
      "text/markdown": [
       "<span style=\"color:#33cc33\">Correct</span>"
      ],
      "text/plain": [
       "Correct"
      ]
     },
     "metadata": {},
     "output_type": "display_data"
    }
   ],
   "source": [
    "X_5 = pd.DataFrame()\n",
    "\n",
    "# YOUR CODE HERE\n",
    "X_5[\"MedNhbdArea\"] = df.groupby('Neighborhood')['GrLivArea'].transform('median')\n",
    "\n",
    "# Check your answer\n",
    "q_5.check()"
   ]
  },
  {
   "cell_type": "code",
   "execution_count": 12,
   "id": "b3ae08b5",
   "metadata": {
    "execution": {
     "iopub.execute_input": "2023-05-16T04:48:58.191700Z",
     "iopub.status.busy": "2023-05-16T04:48:58.191283Z",
     "iopub.status.idle": "2023-05-16T04:48:58.196661Z",
     "shell.execute_reply": "2023-05-16T04:48:58.195440Z"
    },
    "lines_to_next_cell": 0,
    "papermill": {
     "duration": 0.018957,
     "end_time": "2023-05-16T04:48:58.199102",
     "exception": false,
     "start_time": "2023-05-16T04:48:58.180145",
     "status": "completed"
    },
    "tags": []
   },
   "outputs": [],
   "source": [
    "# Lines below will give you a hint or solution code\n",
    "#q_5.hint()\n",
    "#q_5.solution()"
   ]
  },
  {
   "cell_type": "markdown",
   "id": "dd1d3401",
   "metadata": {
    "papermill": {
     "duration": 0.008918,
     "end_time": "2023-05-16T04:48:58.217525",
     "exception": false,
     "start_time": "2023-05-16T04:48:58.208607",
     "status": "completed"
    },
    "tags": []
   },
   "source": [
    "Now you've made your first new feature set! If you like, you can run the cell below to score the model with all of your new features added:"
   ]
  },
  {
   "cell_type": "code",
   "execution_count": 13,
   "id": "5e26ea36",
   "metadata": {
    "execution": {
     "iopub.execute_input": "2023-05-16T04:48:58.238107Z",
     "iopub.status.busy": "2023-05-16T04:48:58.237605Z",
     "iopub.status.idle": "2023-05-16T04:49:02.457528Z",
     "shell.execute_reply": "2023-05-16T04:49:02.456615Z"
    },
    "papermill": {
     "duration": 4.233568,
     "end_time": "2023-05-16T04:49:02.460273",
     "exception": false,
     "start_time": "2023-05-16T04:48:58.226705",
     "status": "completed"
    },
    "tags": []
   },
   "outputs": [
    {
     "data": {
      "text/plain": [
       "0.13865658070461215"
      ]
     },
     "execution_count": 13,
     "metadata": {},
     "output_type": "execute_result"
    }
   ],
   "source": [
    "X_new = X.join([X_1, X_2, X_3, X_4, X_5])\n",
    "score_dataset(X_new, y)"
   ]
  },
  {
   "cell_type": "markdown",
   "id": "6b437819",
   "metadata": {
    "papermill": {
     "duration": 0.009045,
     "end_time": "2023-05-16T04:49:02.480110",
     "exception": false,
     "start_time": "2023-05-16T04:49:02.471065",
     "status": "completed"
    },
    "tags": []
   },
   "source": [
    "# Keep Going #\n",
    "\n",
    "[**Untangle spatial relationships**](https://www.kaggle.com/ryanholbrook/clustering-with-k-means) by adding cluster labels to your dataset."
   ]
  },
  {
   "cell_type": "markdown",
   "id": "f63b9067",
   "metadata": {
    "papermill": {
     "duration": 0.008985,
     "end_time": "2023-05-16T04:49:02.498426",
     "exception": false,
     "start_time": "2023-05-16T04:49:02.489441",
     "status": "completed"
    },
    "tags": []
   },
   "source": [
    "---\n",
    "\n",
    "\n",
    "\n",
    "\n",
    "*Have questions or comments? Visit the [course discussion forum](https://www.kaggle.com/learn/feature-engineering/discussion) to chat with other learners.*"
   ]
  }
 ],
 "metadata": {
  "kernelspec": {
   "display_name": "Python 3",
   "language": "python",
   "name": "python3"
  },
  "language_info": {
   "codemirror_mode": {
    "name": "ipython",
    "version": 3
   },
   "file_extension": ".py",
   "mimetype": "text/x-python",
   "name": "python",
   "nbconvert_exporter": "python",
   "pygments_lexer": "ipython3",
   "version": "3.10.10"
  },
  "papermill": {
   "default_parameters": {},
   "duration": 22.830686,
   "end_time": "2023-05-16T04:49:05.516045",
   "environment_variables": {},
   "exception": null,
   "input_path": "__notebook__.ipynb",
   "output_path": "__notebook__.ipynb",
   "parameters": {},
   "start_time": "2023-05-16T04:48:42.685359",
   "version": "2.4.0"
  }
 },
 "nbformat": 4,
 "nbformat_minor": 5
}
