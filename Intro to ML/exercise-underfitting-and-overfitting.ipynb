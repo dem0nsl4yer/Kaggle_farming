{
 "cells": [
  {
   "cell_type": "markdown",
   "id": "ed7a19fd",
   "metadata": {
    "papermill": {
     "duration": 0.005396,
     "end_time": "2023-05-12T04:02:33.848807",
     "exception": false,
     "start_time": "2023-05-12T04:02:33.843411",
     "status": "completed"
    },
    "tags": []
   },
   "source": [
    "**This notebook is an exercise in the [Introduction to Machine Learning](https://www.kaggle.com/learn/intro-to-machine-learning) course.  You can reference the tutorial at [this link](https://www.kaggle.com/dansbecker/underfitting-and-overfitting).**\n",
    "\n",
    "---\n"
   ]
  },
  {
   "cell_type": "markdown",
   "id": "3c8978c9",
   "metadata": {
    "papermill": {
     "duration": 0.00452,
     "end_time": "2023-05-12T04:02:33.858707",
     "exception": false,
     "start_time": "2023-05-12T04:02:33.854187",
     "status": "completed"
    },
    "tags": []
   },
   "source": [
    "## Recap\n",
    "You've built your first model, and now it's time to optimize the size of the tree to make better predictions. Run this cell to set up your coding environment where the previous step left off."
   ]
  },
  {
   "cell_type": "code",
   "execution_count": 1,
   "id": "d99077d9",
   "metadata": {
    "execution": {
     "iopub.execute_input": "2023-05-12T04:02:33.871691Z",
     "iopub.status.busy": "2023-05-12T04:02:33.870721Z",
     "iopub.status.idle": "2023-05-12T04:02:35.761704Z",
     "shell.execute_reply": "2023-05-12T04:02:35.760332Z"
    },
    "papermill": {
     "duration": 1.901338,
     "end_time": "2023-05-12T04:02:35.764844",
     "exception": false,
     "start_time": "2023-05-12T04:02:33.863506",
     "status": "completed"
    },
    "tags": []
   },
   "outputs": [
    {
     "name": "stderr",
     "output_type": "stream",
     "text": [
      "/opt/conda/lib/python3.10/site-packages/scipy/__init__.py:146: UserWarning: A NumPy version >=1.16.5 and <1.23.0 is required for this version of SciPy (detected version 1.23.5\n",
      "  warnings.warn(f\"A NumPy version >={np_minversion} and <{np_maxversion}\"\n"
     ]
    },
    {
     "name": "stdout",
     "output_type": "stream",
     "text": [
      "Validation MAE: 29,653\n",
      "\n",
      "Setup complete\n"
     ]
    }
   ],
   "source": [
    "# Code you have previously used to load data\n",
    "import pandas as pd\n",
    "from sklearn.metrics import mean_absolute_error\n",
    "from sklearn.model_selection import train_test_split\n",
    "from sklearn.tree import DecisionTreeRegressor\n",
    "\n",
    "\n",
    "# Path of the file to read\n",
    "iowa_file_path = '../input/home-data-for-ml-course/train.csv'\n",
    "\n",
    "home_data = pd.read_csv(iowa_file_path)\n",
    "# Create target object and call it y\n",
    "y = home_data.SalePrice\n",
    "# Create X\n",
    "features = ['LotArea', 'YearBuilt', '1stFlrSF', '2ndFlrSF', 'FullBath', 'BedroomAbvGr', 'TotRmsAbvGrd']\n",
    "X = home_data[features]\n",
    "\n",
    "# Split into validation and training data\n",
    "train_X, val_X, train_y, val_y = train_test_split(X, y, random_state=1)\n",
    "\n",
    "# Specify Model\n",
    "iowa_model = DecisionTreeRegressor(random_state=1)\n",
    "# Fit Model\n",
    "iowa_model.fit(train_X, train_y)\n",
    "\n",
    "# Make validation predictions and calculate mean absolute error\n",
    "val_predictions = iowa_model.predict(val_X)\n",
    "val_mae = mean_absolute_error(val_predictions, val_y)\n",
    "print(\"Validation MAE: {:,.0f}\".format(val_mae))\n",
    "\n",
    "# Set up code checking\n",
    "from learntools.core import binder\n",
    "binder.bind(globals())\n",
    "from learntools.machine_learning.ex5 import *\n",
    "print(\"\\nSetup complete\")"
   ]
  },
  {
   "cell_type": "markdown",
   "id": "15f4de97",
   "metadata": {
    "papermill": {
     "duration": 0.004824,
     "end_time": "2023-05-12T04:02:35.774841",
     "exception": false,
     "start_time": "2023-05-12T04:02:35.770017",
     "status": "completed"
    },
    "tags": []
   },
   "source": [
    "# Exercises\n",
    "You could write the function `get_mae` yourself. For now, we'll supply it. This is the same function you read about in the previous lesson. Just run the cell below."
   ]
  },
  {
   "cell_type": "code",
   "execution_count": 2,
   "id": "90a8a74c",
   "metadata": {
    "execution": {
     "iopub.execute_input": "2023-05-12T04:02:35.786792Z",
     "iopub.status.busy": "2023-05-12T04:02:35.786328Z",
     "iopub.status.idle": "2023-05-12T04:02:35.793065Z",
     "shell.execute_reply": "2023-05-12T04:02:35.791587Z"
    },
    "papermill": {
     "duration": 0.016275,
     "end_time": "2023-05-12T04:02:35.796158",
     "exception": false,
     "start_time": "2023-05-12T04:02:35.779883",
     "status": "completed"
    },
    "tags": []
   },
   "outputs": [],
   "source": [
    "def get_mae(max_leaf_nodes, train_X, val_X, train_y, val_y):\n",
    "    model = DecisionTreeRegressor(max_leaf_nodes=max_leaf_nodes, random_state=0)\n",
    "    model.fit(train_X, train_y)\n",
    "    preds_val = model.predict(val_X)\n",
    "    mae = mean_absolute_error(val_y, preds_val)\n",
    "    return(mae)"
   ]
  },
  {
   "cell_type": "markdown",
   "id": "1cf74399",
   "metadata": {
    "papermill": {
     "duration": 0.004337,
     "end_time": "2023-05-12T04:02:35.805411",
     "exception": false,
     "start_time": "2023-05-12T04:02:35.801074",
     "status": "completed"
    },
    "tags": []
   },
   "source": [
    "## Step 1: Compare Different Tree Sizes\n",
    "Write a loop that tries the following values for *max_leaf_nodes* from a set of possible values.\n",
    "\n",
    "Call the *get_mae* function on each value of max_leaf_nodes. Store the output in some way that allows you to select the value of `max_leaf_nodes` that gives the most accurate model on your data."
   ]
  },
  {
   "cell_type": "code",
   "execution_count": 3,
   "id": "62079a2f",
   "metadata": {
    "execution": {
     "iopub.execute_input": "2023-05-12T04:02:35.817047Z",
     "iopub.status.busy": "2023-05-12T04:02:35.816514Z",
     "iopub.status.idle": "2023-05-12T04:02:35.878864Z",
     "shell.execute_reply": "2023-05-12T04:02:35.877521Z"
    },
    "papermill": {
     "duration": 0.071494,
     "end_time": "2023-05-12T04:02:35.881455",
     "exception": false,
     "start_time": "2023-05-12T04:02:35.809961",
     "status": "completed"
    },
    "tags": []
   },
   "outputs": [
    {
     "data": {
      "application/javascript": [
       "parent.postMessage({\"jupyterEvent\": \"custom.exercise_interaction\", \"data\": {\"outcomeType\": 1, \"valueTowardsCompletion\": 0.5, \"interactionType\": 1, \"questionType\": 1, \"questionId\": \"1_BestTreeSize\", \"learnToolsVersion\": \"0.3.4\", \"failureMessage\": \"\", \"exceptionClass\": \"\", \"trace\": \"\"}}, \"*\")"
      ],
      "text/plain": [
       "<IPython.core.display.Javascript object>"
      ]
     },
     "metadata": {},
     "output_type": "display_data"
    },
    {
     "data": {
      "text/markdown": [
       "<span style=\"color:#33cc33\">Correct</span>"
      ],
      "text/plain": [
       "Correct"
      ]
     },
     "metadata": {},
     "output_type": "display_data"
    }
   ],
   "source": [
    "candidate_max_leaf_nodes = [5, 25, 50, 100, 250, 500]\n",
    "# Write loop to find the ideal tree size from candidate_max_leaf_nodes\n",
    "t = 50000\n",
    "temp = 0 \n",
    "for i in candidate_max_leaf_nodes:\n",
    "    b = get_mae(i, train_X, val_X, train_y, val_y)\n",
    "    if b < t:\n",
    "        t = b\n",
    "        temp = i \n",
    "# Store the best value of max_leaf_nodes (it will be either 5, 25, 50, 100, 250 or 500)\n",
    "best_tree_size = temp \n",
    "# Check your answer\n",
    "step_1.check()"
   ]
  },
  {
   "cell_type": "code",
   "execution_count": 4,
   "id": "e224614c",
   "metadata": {
    "execution": {
     "iopub.execute_input": "2023-05-12T04:02:35.894467Z",
     "iopub.status.busy": "2023-05-12T04:02:35.893038Z",
     "iopub.status.idle": "2023-05-12T04:02:35.899868Z",
     "shell.execute_reply": "2023-05-12T04:02:35.898278Z"
    },
    "papermill": {
     "duration": 0.016331,
     "end_time": "2023-05-12T04:02:35.902728",
     "exception": false,
     "start_time": "2023-05-12T04:02:35.886397",
     "status": "completed"
    },
    "tags": []
   },
   "outputs": [],
   "source": [
    "# The lines below will show you a hint or the solution.\n",
    "# step_1.hint() \n",
    "# step_1.solution()"
   ]
  },
  {
   "cell_type": "markdown",
   "id": "5a0e0103",
   "metadata": {
    "papermill": {
     "duration": 0.004696,
     "end_time": "2023-05-12T04:02:35.912514",
     "exception": false,
     "start_time": "2023-05-12T04:02:35.907818",
     "status": "completed"
    },
    "tags": []
   },
   "source": [
    "## Step 2: Fit Model Using All Data\n",
    "You know the best tree size. If you were going to deploy this model in practice, you would make it even more accurate by using all of the data and keeping that tree size.  That is, you don't need to hold out the validation data now that you've made all your modeling decisions."
   ]
  },
  {
   "cell_type": "code",
   "execution_count": 5,
   "id": "22e9657a",
   "metadata": {
    "execution": {
     "iopub.execute_input": "2023-05-12T04:02:35.924376Z",
     "iopub.status.busy": "2023-05-12T04:02:35.923992Z",
     "iopub.status.idle": "2023-05-12T04:02:35.944530Z",
     "shell.execute_reply": "2023-05-12T04:02:35.943155Z"
    },
    "papermill": {
     "duration": 0.030061,
     "end_time": "2023-05-12T04:02:35.947647",
     "exception": false,
     "start_time": "2023-05-12T04:02:35.917586",
     "status": "completed"
    },
    "tags": []
   },
   "outputs": [
    {
     "data": {
      "application/javascript": [
       "parent.postMessage({\"jupyterEvent\": \"custom.exercise_interaction\", \"data\": {\"outcomeType\": 1, \"valueTowardsCompletion\": 0.5, \"interactionType\": 1, \"questionType\": 2, \"questionId\": \"2_FitModelWithAllData\", \"learnToolsVersion\": \"0.3.4\", \"failureMessage\": \"\", \"exceptionClass\": \"\", \"trace\": \"\"}}, \"*\")"
      ],
      "text/plain": [
       "<IPython.core.display.Javascript object>"
      ]
     },
     "metadata": {},
     "output_type": "display_data"
    },
    {
     "data": {
      "text/markdown": [
       "<span style=\"color:#33cc33\">Correct</span>"
      ],
      "text/plain": [
       "Correct"
      ]
     },
     "metadata": {},
     "output_type": "display_data"
    }
   ],
   "source": [
    "# Fill in argument to make optimal size and uncomment\n",
    "final_model = DecisionTreeRegressor(max_leaf_nodes = best_tree_size, random_state=1)\n",
    "\n",
    "# fit the final model and uncomment the next two lines\n",
    "final_model.fit(X, y)\n",
    "\n",
    "# Check your answer\n",
    "step_2.check()"
   ]
  },
  {
   "cell_type": "code",
   "execution_count": 6,
   "id": "4e132afd",
   "metadata": {
    "execution": {
     "iopub.execute_input": "2023-05-12T04:02:35.962723Z",
     "iopub.status.busy": "2023-05-12T04:02:35.962276Z",
     "iopub.status.idle": "2023-05-12T04:02:35.968346Z",
     "shell.execute_reply": "2023-05-12T04:02:35.967001Z"
    },
    "papermill": {
     "duration": 0.0165,
     "end_time": "2023-05-12T04:02:35.971012",
     "exception": false,
     "start_time": "2023-05-12T04:02:35.954512",
     "status": "completed"
    },
    "tags": []
   },
   "outputs": [],
   "source": [
    "# step_2.hint()\n",
    "# step_2.solution()"
   ]
  },
  {
   "cell_type": "markdown",
   "id": "2a6fa814",
   "metadata": {
    "papermill": {
     "duration": 0.005682,
     "end_time": "2023-05-12T04:02:35.982501",
     "exception": false,
     "start_time": "2023-05-12T04:02:35.976819",
     "status": "completed"
    },
    "tags": []
   },
   "source": [
    "You've tuned this model and improved your results. But we are still using Decision Tree models, which are not very sophisticated by modern machine learning standards. In the next step you will learn to use Random Forests to improve your models even more.\n",
    "\n",
    "# Keep Going\n",
    "\n",
    "You are ready for **[Random Forests](https://www.kaggle.com/dansbecker/random-forests).**\n"
   ]
  },
  {
   "cell_type": "markdown",
   "id": "12ed5b75",
   "metadata": {
    "papermill": {
     "duration": 0.005458,
     "end_time": "2023-05-12T04:02:35.993971",
     "exception": false,
     "start_time": "2023-05-12T04:02:35.988513",
     "status": "completed"
    },
    "tags": []
   },
   "source": [
    "---\n",
    "\n",
    "\n",
    "\n",
    "\n",
    "*Have questions or comments? Visit the [course discussion forum](https://www.kaggle.com/learn/intro-to-machine-learning/discussion) to chat with other learners.*"
   ]
  }
 ],
 "metadata": {
  "kernelspec": {
   "display_name": "Python 3",
   "language": "python",
   "name": "python3"
  },
  "language_info": {
   "codemirror_mode": {
    "name": "ipython",
    "version": 3
   },
   "file_extension": ".py",
   "mimetype": "text/x-python",
   "name": "python",
   "nbconvert_exporter": "python",
   "pygments_lexer": "ipython3",
   "version": "3.10.10"
  },
  "papermill": {
   "default_parameters": {},
   "duration": 17.136213,
   "end_time": "2023-05-12T04:02:37.025894",
   "environment_variables": {},
   "exception": null,
   "input_path": "__notebook__.ipynb",
   "output_path": "__notebook__.ipynb",
   "parameters": {},
   "start_time": "2023-05-12T04:02:19.889681",
   "version": "2.4.0"
  }
 },
 "nbformat": 4,
 "nbformat_minor": 5
}
